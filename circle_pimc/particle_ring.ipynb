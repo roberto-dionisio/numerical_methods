{
 "cells": [
  {
   "cell_type": "markdown",
   "id": "c7d613fc-1f57-4525-a83a-3dcea647310d",
   "metadata": {},
   "source": [
    "# Code for simulating a Particle on a ring "
   ]
  },
  {
   "cell_type": "code",
   "execution_count": 1,
   "id": "2d2772c7-287f-4357-8dfc-e970ec17cb80",
   "metadata": {
    "tags": []
   },
   "outputs": [],
   "source": [
    "import numpy as np\n",
    "import concurrent.futures\n",
    "from tqdm.notebook import tqdm\n",
    "import os\n",
    "import matplotlib as mpt\n",
    "import matplotlib.pyplot as plt\n",
    "from matplotlib import style\n",
    "import pylab\n",
    "#speed things up\n",
    "import numba\n",
    "from numba import njit\n",
    "from numba import jit\n",
    "from numba import prange\n",
    "from numba.experimental import jitclass\n",
    "from scipy.optimize import curve_fit\n",
    "#from numba_progress import ProgressBar\n",
    "#from scipy.ndimage import convolve, generate_binary_structure\n",
    "from timeit import default_timer as timer\n",
    "from time import sleep\n",
    "#style designed by me for plottin (version 2)\n",
    "plt.style.use(['science','notebook','grid'])\n",
    "plt.rcParams['mathtext.fontset'] = 'stix'\n",
    "\n",
    "fig = (9,6)\n",
    "params = {'figure.figsize': fig,\n",
    "        'legend.fontsize': 2.5*fig[1],\n",
    "         'axes.labelsize': 2.8*fig[1],\n",
    "         'axes.titlesize': 4*fig[1],\n",
    "         'xtick.labelsize': 2*fig[1],\n",
    "         'ytick.labelsize': 2*fig[1],\n",
    "         'font.family' : \n",
    "          'Stixgeneral'\n",
    "          }\n",
    "pylab.rcParams.update(params)"
   ]
  },
  {
   "cell_type": "code",
   "execution_count": 2,
   "id": "f45431bd-a1b6-41e1-a973-47aac4200ad4",
   "metadata": {
    "tags": []
   },
   "outputs": [],
   "source": [
    "#function to get a color map for the plot\n",
    "def getColor(c, N, idx):\n",
    "    cmap=mpt.colormaps.get_cmap(c)\n",
    "    norm = mpt.colors.Normalize(vmin=0.0, vmax=N - 1)\n",
    "    return cmap(norm(idx))"
   ]
  },
  {
   "cell_type": "code",
   "execution_count": 3,
   "id": "d8f1dec0-8545-486d-a363-d70e5e6db1ed",
   "metadata": {
    "tags": []
   },
   "outputs": [],
   "source": [
    "#Class that contains all the information of the 'Particle' like beta, eta, probability for cutting the path etc...\n",
    "class Particle:\n",
    "    def __init__(self, beta, N, tailor_prob):\n",
    "        self.beta = beta\n",
    "        self.N = int(N)\n",
    "        self.eta = beta/N\n",
    "        self.path = init(self.N,1)    \n",
    "        self.npp = boundaries(N)[0]\n",
    "        self.nmm = boundaries(N)[1]\n",
    "        self.prob = tailor_prob\n",
    "    def charge(self):\n",
    "        self.Q = topological_charge(self.path)\n",
    "    def energy(self):\n",
    "        self.K = kinetic_energy(self.path, self.eta)\n",
    "    def tailor(self):\n",
    "        tailor_move(self.prob, self.path, self.eta, self.nmm)\n",
    "    def metro(self):\n",
    "        update_metro(self.path, self.nmm, self.npp, np.sqrt(self.eta), self.eta)\n",
    "    def montec(self,N_step,save_measure, name):\n",
    "        names = os.getcwd() + '/' + 'sim_b50' + '/' + 'simulation'\n",
    "        Q = np.zeros(int(N_step/save_measure))\n",
    "        K = np.zeros(int(N_step/save_measure))\n",
    "        for i in tqdm(range(N_step)):\n",
    "            self.tailor()\n",
    "            self.metro()\n",
    "            if(i%save_measure ==0):\n",
    "                self.charge()\n",
    "                self.energy()\n",
    "                Q[int(i/10)] = self.Q\n",
    "                K[int(i/10)] = self.K\n",
    "        full_array = np.stack([Q,K], axis=1)\n",
    "        np.savetxt(f'{names}_{name}.txt', full_array, delimiter='\\t', header='Top_Charge \\t Energy')\n",
    "                    \n",
    "    def write_on_txt(self):\n",
    "        pass\n",
    "        "
   ]
  },
  {
   "cell_type": "code",
   "execution_count": 4,
   "id": "2c3cb984-a772-4ee9-b03b-5b82689c0160",
   "metadata": {
    "tags": []
   },
   "outputs": [
    {
     "data": {
      "text/plain": [
       "array([   10,    11,    12,    13,    14,    15,    16,    17,    18,\n",
       "          19,    20,    21,    22,    23,    24,    25,    26,    27,\n",
       "          28,    29,    30,    31,    32,    33,    34,    36,    37,\n",
       "          38,    40,    41,    42,    44,    46,    47,    49,    51,\n",
       "          52,    54,    56,    58,    60,    62,    65,    67,    69,\n",
       "          72,    74,    77,    80,    83,    86,    89,    92,    95,\n",
       "          98,   102,   105,   109,   113,   117,   121,   126,   130,\n",
       "         135,   139,   144,   149,   155,   160,   166,   172,   178,\n",
       "         184,   191,   197,   204,   212,   219,   227,   235,   243,\n",
       "         252,   261,   270,   280,   289,   300,   310,   321,   333,\n",
       "         344,   357,   369,   382,   396,   410,   424,   439,   455,\n",
       "         471,   488,   505,   523,   541,   560,   580,   601,   622,\n",
       "         644,   666,   690,   714,   740,   766,   793,   821,   850,\n",
       "         880,   911,   943,   977,  1011,  1047,  1084,  1122,  1162,\n",
       "        1203,  1245,  1289,  1335,  1382,  1431,  1482,  1534,  1588,\n",
       "        1644,  1702,  1762,  1825,  1889,  1956,  2025,  2097,  2171,\n",
       "        2247,  2327,  2409,  2494,  2582,  2673,  2768,  2866,  2967,\n",
       "        3072,  3180,  3292,  3409,  3529,  3654,  3783,  3917,  4055,\n",
       "        4198,  4347,  4500,  4659,  4824,  4994,  5170,  5353,  5542,\n",
       "        5738,  5941,  6150,  6368,  6593,  6826,  7067,  7316,  7575,\n",
       "        7842,  8119,  8406,  8703,  9011,  9329,  9658, 10000,  9708,\n",
       "        9718,  9728,  9738,  9748,  9758,  9768,  9778,  9788,  9798,\n",
       "        9808,  9818,  9828,  9838,  9848,  9858,  9868,  9878,  9888,\n",
       "        9898,  9908,  9918,  9928,  9939,  9949,  9959,  9969,  9979,\n",
       "        9989])"
      ]
     },
     "execution_count": 4,
     "metadata": {},
     "output_type": "execute_result"
    }
   ],
   "source": [
    "a=np.geomspace(0.001,1,200)\n",
    "b=np.geomspace(0.001,0.00103,30)\n",
    "N = np.unique((10/a).astype(int))\n",
    "N1 = np.unique((10/b).astype(int))\n",
    "N2 = np.concatenate((N,N1))\n",
    "N2[:-1]"
   ]
  },
  {
   "cell_type": "code",
   "execution_count": null,
   "id": "a4b1e219-976d-427b-915c-01cb4b94fca4",
   "metadata": {
    "jupyter": {
     "source_hidden": true
    },
    "tags": []
   },
   "outputs": [],
   "source": [
    "a=np.geomspace(0.001,0.00103,30)\n",
    "N = np.unique((10/a).astype(int))\n",
    "N"
   ]
  },
  {
   "cell_type": "code",
   "execution_count": 42,
   "id": "d7fecc70-32ae-4efe-a580-ffb6f0ed16e9",
   "metadata": {
    "tags": []
   },
   "outputs": [],
   "source": [
    "names = os.getcwd() + '/' + 'sim_b10_metro05' + '/' + 'simulation'"
   ]
  },
  {
   "cell_type": "code",
   "execution_count": 6,
   "id": "d229c24a-c468-4d53-8d22-74d8a3149427",
   "metadata": {
    "tags": []
   },
   "outputs": [],
   "source": [
    "@jit(parallel=True)\n",
    "def init(N_path, flag):\n",
    "    if flag == 1:\n",
    "        field = np.random.rand(N_path)\n",
    "    elif flag ==0:\n",
    "        field = np.zeros(N_path)\n",
    "    else:\n",
    "        print('Accettati solo 1 o 0 --> caldo o freddo')\n",
    "        return\n",
    "    \n",
    "    return field"
   ]
  },
  {
   "cell_type": "code",
   "execution_count": null,
   "id": "f6147aec-34e2-4aa8-98cb-a4faf6e7de7e",
   "metadata": {
    "tags": []
   },
   "outputs": [],
   "source": [
    "def fractional_part(x):\n",
    "    return np.abs(np.modf(x)[0])"
   ]
  },
  {
   "cell_type": "code",
   "execution_count": 7,
   "id": "ea1141f0-15b9-4e0a-b9fe-04256a316480",
   "metadata": {
    "tags": []
   },
   "outputs": [],
   "source": [
    "#function to get the distance with sign on the circle\n",
    "@njit('f8(f8,f8)')\n",
    "def sign_distance(x, y):\n",
    "    d = x-y\n",
    "    if (d > 0.5): return d-1\n",
    "    elif (d < -0.5): return 1+d\n",
    "    else:\n",
    "        return d    "
   ]
  },
  {
   "cell_type": "code",
   "execution_count": 9,
   "id": "b7d4f5d0-6906-4130-a9ff-3318b7b78118",
   "metadata": {
    "tags": []
   },
   "outputs": [],
   "source": [
    "#Measure of the topological charge\n",
    "@njit(parallel=True)\n",
    "def topological_charge(field):\n",
    "    # Q= np.sum([sign_distance(field[(i+1)%len(field)],field[i]) for i in range(len(field))])\n",
    "    # return round(Q)      # a numba non piace questa implementazione\n",
    "    Q=0\n",
    "    for i in prange(len(field)):\n",
    "        Q+=sign_distance(field[(i+1)%len(field)], field[i])\n",
    "    return round(Q)   "
   ]
  },
  {
   "cell_type": "code",
   "execution_count": 8,
   "id": "cf36a38b-0782-43b4-a398-c2cf17a62e9a",
   "metadata": {
    "tags": []
   },
   "outputs": [],
   "source": [
    "#Measure of the energy\n",
    "@njit(parallel = True)\n",
    "def kinetic_energy(field, eta):\n",
    "    K = 0\n",
    "    for i in prange(len(field)):\n",
    "        K += (field[(i+1)%len(field)] - field[i])**2\n",
    "        \n",
    "    return 0.5 * K/(len(field)*eta**2)"
   ]
  },
  {
   "cell_type": "code",
   "execution_count": 10,
   "id": "2813eaf5-dea0-4949-a421-d41b9676a59d",
   "metadata": {
    "tags": []
   },
   "outputs": [],
   "source": [
    "#Function that does the tailor move\n",
    "@njit\n",
    "def tailor_move(tailor_prob, field, eta, nmm):\n",
    "    proposed_cut = 0\n",
    "    accepted_cut = 0 \n",
    "    if (tailor_prob >=0 and np.random.uniform(0,1) < tailor_prob):\n",
    "        cutting_index = 0\n",
    "        condition = False \n",
    "        y_0 = field[0]\n",
    "        y_r = (y_0 + 0.5)%1\n",
    "        \n",
    "        while (cutting_index < len(field) and not(condition)):\n",
    "            condition = np.abs(sign_distance(field[cutting_index], y_r)) <= 0.02*eta\n",
    "            cutting_index+=1\n",
    "        \n",
    "        if(condition):\n",
    "            cutting_index-=1\n",
    "            d_old = sign_distance(field[cutting_index],field[nmm[cutting_index]])\n",
    "            d_new = sign_distance((2*y_r - field[cutting_index])%1, field[nmm[cutting_index]])\n",
    "            DeltaS = (d_new**2 - d_old**2)/(2*eta)\n",
    "            \n",
    "            proposed_cut+=1\n",
    "            if((np.exp(-DeltaS) > 1) or np.log(np.random.uniform(0,1)) < -DeltaS):\n",
    "                accepted_cut+=1\n",
    "                for i in range(cutting_index, len(field)):\n",
    "                    field[i] = (2 * y_r - field[i])%1"
   ]
  },
  {
   "cell_type": "code",
   "execution_count": 11,
   "id": "7f2e3c22-5927-434f-862a-6aaa11c9b29a",
   "metadata": {
    "tags": []
   },
   "outputs": [],
   "source": [
    "#defining the boundaries condition (PBC)\n",
    "@njit\n",
    "def boundaries (n):\n",
    "    npp = np.zeros(n).astype(np.int64)\n",
    "    nmm = np.zeros(n).astype(np.int64)\n",
    "\n",
    "    for i in range(n):\n",
    "        npp[i] = i+1\n",
    "        nmm[i] = i-1\n",
    "    npp[n - 1] = 0\n",
    "    nmm[0] = n - 1\n",
    "    return npp,nmm"
   ]
  },
  {
   "cell_type": "code",
   "execution_count": 12,
   "id": "8f78ddd8-8fcb-452e-940a-45ede4ce0368",
   "metadata": {
    "tags": []
   },
   "outputs": [],
   "source": [
    "#Function that perform a metropolis update\n",
    "@njit\n",
    "def update_metro(field, nmm, npp, delta, eta, acc):\n",
    "    for i in range(len(field)):\n",
    "        i_site = np.random.randint(0,len(field))\n",
    "        y_old = field[i_site]\n",
    "        y_before = field[nmm[i_site]]\n",
    "        y_after = field[npp[i_site]]\n",
    "        y_new = (y_old + delta * (2*np.random.uniform(0,1) - 1))%1\n",
    "        DeltaS = (1./(2*eta)) * (sign_distance(y_after, y_new)**2 + sign_distance(y_new, y_before)**2 - sign_distance(y_after, y_old)**2 - sign_distance(y_old, y_before)**2)\n",
    "        \n",
    "        if( -DeltaS > 0 or np.log(np.random.uniform(0,1)) < -DeltaS):\n",
    "            acc+=1\n",
    "            field[i_site] = y_new \n",
    "    return acc"
   ]
  },
  {
   "cell_type": "code",
   "execution_count": 5,
   "id": "a14eb81c-a475-4caa-ac1f-cd9d67046907",
   "metadata": {
    "tags": []
   },
   "outputs": [],
   "source": [
    "def montecarlo_(N_step, save_measure, names, name, ns, acc_dir):\n",
    "    Q = np.zeros(int(N_step/save_measure))\n",
    "    K = np.zeros(int(N_step/save_measure))\n",
    "    acc = 0\n",
    "    \n",
    "    p = Particle(10, ns, 0.07)\n",
    "    for i in tqdm(range(N_step)):\n",
    "        #tailor_move(p.prob, p.path, p.eta, p.nmm)\n",
    "        acc = update_metro(p.path, p.nmm, p.npp, 0.5, p.eta, acc)\n",
    "        if(i%save_measure ==0):\n",
    "            p.charge()\n",
    "            p.energy()\n",
    "            Q[int(i/10)] = p.Q\n",
    "            K[int(i/10)] = p.K\n",
    "    fin_acc =np.ones(1) * acc/(ns * N_step)\n",
    "    full_array = np.stack([Q,K], axis=1)\n",
    "    np.savetxt(f'{names}_{name}.txt', full_array, delimiter='\\t', header='Top_Charge \\t Energy') \n",
    "    np.savetxt(f'{acc_dir}_{name}.txt', fin_acc, delimiter='\\t', header='Acceptance' )"
   ]
  },
  {
   "cell_type": "markdown",
   "id": "fbdd97f6-907f-4126-ae69-9131ac17fc78",
   "metadata": {},
   "source": [
    "### Run for the simulation with threading "
   ]
  },
  {
   "cell_type": "code",
   "execution_count": 33,
   "id": "a6750968-f068-4b13-a624-735c123a1b3a",
   "metadata": {
    "collapsed": true,
    "jupyter": {
     "outputs_hidden": true
    },
    "tags": []
   },
   "outputs": [
    {
     "ename": "FileExistsError",
     "evalue": "[Errno 17] File exists: 'sim_b10_metro05'",
     "output_type": "error",
     "traceback": [
      "\u001b[0;31m---------------------------------------------------------------------------\u001b[0m",
      "\u001b[0;31mFileExistsError\u001b[0m                           Traceback (most recent call last)",
      "Cell \u001b[0;32mIn[33], line 3\u001b[0m\n\u001b[1;32m      1\u001b[0m a\u001b[38;5;241m=\u001b[39mnp\u001b[38;5;241m.\u001b[39mgeomspace(\u001b[38;5;241m0.001\u001b[39m,\u001b[38;5;241m1\u001b[39m,\u001b[38;5;241m200\u001b[39m)\n\u001b[1;32m      2\u001b[0m N \u001b[38;5;241m=\u001b[39m np\u001b[38;5;241m.\u001b[39munique((\u001b[38;5;241m10\u001b[39m\u001b[38;5;241m/\u001b[39ma)\u001b[38;5;241m.\u001b[39mastype(\u001b[38;5;28mint\u001b[39m))\n\u001b[0;32m----> 3\u001b[0m \u001b[43mos\u001b[49m\u001b[38;5;241;43m.\u001b[39;49m\u001b[43mmkdir\u001b[49m\u001b[43m(\u001b[49m\u001b[38;5;124;43m'\u001b[39;49m\u001b[38;5;124;43msim_b10_metro05\u001b[39;49m\u001b[38;5;124;43m'\u001b[39;49m\u001b[43m)\u001b[49m\n\u001b[1;32m      4\u001b[0m names \u001b[38;5;241m=\u001b[39m os\u001b[38;5;241m.\u001b[39mgetcwd() \u001b[38;5;241m+\u001b[39m \u001b[38;5;124m'\u001b[39m\u001b[38;5;124m/\u001b[39m\u001b[38;5;124m'\u001b[39m \u001b[38;5;241m+\u001b[39m \u001b[38;5;124m'\u001b[39m\u001b[38;5;124msim_b10\u001b[39m\u001b[38;5;124m'\u001b[39m \u001b[38;5;241m+\u001b[39m \u001b[38;5;124m'\u001b[39m\u001b[38;5;124m/\u001b[39m\u001b[38;5;124m'\u001b[39m \u001b[38;5;241m+\u001b[39m \u001b[38;5;124m'\u001b[39m\u001b[38;5;124msimulation\u001b[39m\u001b[38;5;124m'\u001b[39m\n\u001b[1;32m      5\u001b[0m acc_dir \u001b[38;5;241m=\u001b[39m os\u001b[38;5;241m.\u001b[39mgetcwd() \u001b[38;5;241m+\u001b[39m \u001b[38;5;124m'\u001b[39m\u001b[38;5;124m/\u001b[39m\u001b[38;5;124m'\u001b[39m \u001b[38;5;241m+\u001b[39m \u001b[38;5;124m'\u001b[39m\u001b[38;5;124msim_b10_metro05\u001b[39m\u001b[38;5;124m'\u001b[39m \u001b[38;5;241m+\u001b[39m \u001b[38;5;124m'\u001b[39m\u001b[38;5;124m/\u001b[39m\u001b[38;5;124m'\u001b[39m \u001b[38;5;241m+\u001b[39m \u001b[38;5;124m'\u001b[39m\u001b[38;5;124macc\u001b[39m\u001b[38;5;124m'\u001b[39m\n",
      "\u001b[0;31mFileExistsError\u001b[0m: [Errno 17] File exists: 'sim_b10_metro05'"
     ]
    }
   ],
   "source": [
    "a=np.geomspace(0.001,1,200)\n",
    "N = np.unique((10/a).astype(int))\n",
    "os.mkdir('sim_b10_metro05')\n",
    "names = os.getcwd() + '/' + 'sim_b10' + '/' + 'simulation'\n",
    "acc_dir = os.getcwd() + '/' + 'sim_b10_metro05' + '/' + 'acc'\n",
    "os.mkdir(acc_dir)\n",
    "acc_dir = acc_dir + '/' + 'acc'\n",
    "with concurrent.futures.ThreadPoolExecutor() as executor:\n",
    "    for ns in N2[:-1]:\n",
    "        executor.submit(montecarlo_, 1000000, 10, names, str(ns), ns, acc_dir)"
   ]
  },
  {
   "cell_type": "code",
   "execution_count": null,
   "id": "6f1cfb71-155f-4fa9-baa8-7749daa33f13",
   "metadata": {},
   "outputs": [],
   "source": []
  },
  {
   "cell_type": "code",
   "execution_count": null,
   "id": "edb57c07-22ae-4bd1-b474-5e6d2e7ac15a",
   "metadata": {
    "jupyter": {
     "source_hidden": true
    },
    "tags": []
   },
   "outputs": [],
   "source": [
    "p.energy()\n",
    "p.K"
   ]
  },
  {
   "cell_type": "code",
   "execution_count": null,
   "id": "98b8316f-1d85-4cd0-a973-e5ef17665970",
   "metadata": {
    "jupyter": {
     "source_hidden": true
    },
    "tags": []
   },
   "outputs": [],
   "source": [
    "tt = np.arange(0,100000,1000)\n",
    "qq = np.zeros(len(tt))\n",
    "ee = np.zeros(len(tt))\n",
    "for j,t in enumerate(tqdm(tt)):\n",
    "    p = Particle(1,1000,0.1)\n",
    "    for i in range(t):\n",
    "        p.tailor()\n",
    "        p.metro()\n",
    "    p.charge()\n",
    "    p.energy()\n",
    "    qq[j]=p.Q\n",
    "    ee[j]=p.K"
   ]
  },
  {
   "cell_type": "code",
   "execution_count": null,
   "id": "886ce8bc-e717-477f-8b02-1f80719d6eb4",
   "metadata": {
    "jupyter": {
     "source_hidden": true
    },
    "tags": []
   },
   "outputs": [],
   "source": [
    "plt.plot(ee[:])"
   ]
  },
  {
   "cell_type": "code",
   "execution_count": null,
   "id": "4a5eb8dd-2304-45cc-8dec-d5a7780ad6f5",
   "metadata": {
    "jupyter": {
     "source_hidden": true
    },
    "tags": []
   },
   "outputs": [],
   "source": [
    "tt = np.arange(0,1000000,50000)\n",
    "qq = np.zeros(len(tt))\n",
    "ee = np.zeros(len(tt))\n",
    "qq1 = np.zeros(len(tt))\n",
    "ee1 = np.zeros(len(tt))\n",
    "for j,t in enumerate(tqdm(tt)):\n",
    "    p = Particle(0.01,1000,0.1)\n",
    "    p1 =Particle(10,1000,0.1)\n",
    "    for i in range(t):\n",
    "        p.tailor()\n",
    "        p.metro()\n",
    "        p1.tailor()\n",
    "        p1.metro()\n",
    "    p1.charge()\n",
    "    p1.energy()    \n",
    "    p.charge()\n",
    "    p.energy()\n",
    "    qq1[j]=p1.Q\n",
    "    ee1[j]=p1.K\n",
    "    qq[j]=p.Q\n",
    "    ee[j]=p.K"
   ]
  },
  {
   "cell_type": "code",
   "execution_count": null,
   "id": "ce32e707-d2da-45ca-be75-78f36a73280f",
   "metadata": {
    "jupyter": {
     "source_hidden": true
    },
    "tags": []
   },
   "outputs": [],
   "source": [
    "plt.plot(qq)\n",
    "plt.plot(qq1)"
   ]
  },
  {
   "cell_type": "code",
   "execution_count": null,
   "id": "91ec13dc-39b8-40e5-8fbf-727bd6cbca5a",
   "metadata": {
    "jupyter": {
     "source_hidden": true
    },
    "tags": []
   },
   "outputs": [],
   "source": [
    "plt.plot(ee)\n",
    "#plt.plot(ee1)"
   ]
  },
  {
   "cell_type": "code",
   "execution_count": null,
   "id": "fb97312c-1bf2-4785-aded-022a11d90bad",
   "metadata": {
    "jupyter": {
     "source_hidden": true
    },
    "tags": []
   },
   "outputs": [],
   "source": [
    "tt = np.arange(0,500000,100000)\n",
    "qq = np.zeros(len(tt))\n",
    "ee = np.zeros(len(tt))\n",
    "qq1 = np.zeros(len(tt))\n",
    "ee1 = np.zeros(len(tt))\n",
    "for j,t in enumerate(tqdm(tt)):\n",
    "    p = Particle(0.01,1000,0.1)\n",
    "    p1 =Particle(10,1000,0.1)\n",
    "    for i in range(t):\n",
    "        p.tailor()\n",
    "        p.metro()\n",
    "        p1.tailor()\n",
    "        p1.metro()\n",
    "    p1.charge()\n",
    "    p1.energy()    \n",
    "    p.charge()\n",
    "    p.energy()\n",
    "    qq1[j]=p1.Q\n",
    "    ee1[j]=p1.K\n",
    "    qq[j]=p.Q\n",
    "    ee[j]=p.K"
   ]
  },
  {
   "cell_type": "code",
   "execution_count": null,
   "id": "c372d77d-5f19-4de2-89d4-06f51c1ac086",
   "metadata": {
    "jupyter": {
     "source_hidden": true
    },
    "tags": []
   },
   "outputs": [],
   "source": [
    "plt.plot(ee)\n",
    "#plt.plot(ee1)"
   ]
  },
  {
   "cell_type": "code",
   "execution_count": null,
   "id": "f5960538-336b-4972-af35-41a3324b8716",
   "metadata": {},
   "outputs": [],
   "source": []
  },
  {
   "cell_type": "code",
   "execution_count": null,
   "id": "2440d89a-5de5-4d71-8c04-2ef067ebc1f3",
   "metadata": {},
   "outputs": [],
   "source": []
  },
  {
   "cell_type": "code",
   "execution_count": null,
   "id": "89d9758f-6cf2-47b8-9d37-2f2594be85b3",
   "metadata": {
    "tags": []
   },
   "outputs": [],
   "source": [
    "def fractional_part1(x):\n",
    "    if (x > 1): \n",
    "        return fractional_part1(x-1);\n",
    "    elif (x < 0):\n",
    "        print('a')\n",
    "        return fractional_part1(x+1);\n",
    "    return x;\n"
   ]
  }
 ],
 "metadata": {
  "kernelspec": {
   "display_name": "Python 3 (ipykernel)",
   "language": "python",
   "name": "python3"
  },
  "language_info": {
   "codemirror_mode": {
    "name": "ipython",
    "version": 3
   },
   "file_extension": ".py",
   "mimetype": "text/x-python",
   "name": "python",
   "nbconvert_exporter": "python",
   "pygments_lexer": "ipython3",
   "version": "3.9.15"
  }
 },
 "nbformat": 4,
 "nbformat_minor": 5
}
