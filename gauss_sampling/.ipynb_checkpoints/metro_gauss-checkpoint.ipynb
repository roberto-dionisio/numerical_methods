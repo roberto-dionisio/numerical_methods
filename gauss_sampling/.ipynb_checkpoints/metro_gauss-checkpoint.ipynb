{
 "cells": [
  {
   "cell_type": "markdown",
   "id": "043c1629-180c-41cb-b019-724e91b20a5f",
   "metadata": {},
   "source": [
    "# MetroGauss\n",
    "The aim is to generate gausiian number with given average and given variance using a Metropolis Algorithm as a toy model "
   ]
  },
  {
   "cell_type": "code",
   "execution_count": 1,
   "id": "9ddf25b6-927c-4167-8fb2-d325fe2fa570",
   "metadata": {},
   "outputs": [],
   "source": [
    "import numpy as np\n",
    "from tqdm.notebook import tqdm\n",
    "from time import sleep\n",
    "import pylab\n",
    "import os\n",
    "import matplotlib.pyplot as plt\n",
    "from matplotlib import style\n",
    "plt.style.use(['science','notebook','grid'])\n",
    "import numba\n",
    "from numba import njit\n",
    "from numba import jit\n",
    "from numba_progress import ProgressBar\n",
    "from scipy.ndimage import convolve, generate_binary_structure\n",
    "from timeit import default_timer as timer"
   ]
  },
  {
   "cell_type": "markdown",
   "id": "f4026476-461a-4191-91f9-47e31d4e0e9b",
   "metadata": {
    "tags": []
   },
   "source": [
    "### pseudo-random generator test"
   ]
  },
  {
   "cell_type": "code",
   "execution_count": 4,
   "id": "3958739d-9b54-4b27-957a-fa1e42755d44",
   "metadata": {
    "tags": []
   },
   "outputs": [],
   "source": [
    "record = open(\"metrogauss1.txt\",\"w\")"
   ]
  },
  {
   "cell_type": "code",
   "execution_count": 7,
   "id": "dba8d429-87b3-42fe-8ed9-7017c9f3cd1a",
   "metadata": {},
   "outputs": [],
   "source": [
    "nstat =int(10e4)\n",
    "start=0.0\n",
    "avg=5.0\n",
    "var=1\n",
    "delta=0.1"
   ]
  },
  {
   "cell_type": "code",
   "execution_count": null,
   "id": "5f66af52-69e6-4176-b800-329dc044c215",
   "metadata": {},
   "outputs": [],
   "source": [
    "#Let's initialiaze the state of the system\n",
    "#i markov chain step \n",
    "q=start\n",
    "for i in range(1,10**6):\n",
    "    x,y= np.random.uniform(0,1,2)\n",
    "    q_try=q + delta*(1.0-2.0*x) #mi muovo di +- delta attorno al vecchio valore \n",
    "    \n",
    "    z = np.exp(((q-avg)**2)-(q_try-avg)**2)/(2*var)   # ratio of probab\n",
    "    \n",
    "    if(y<z):\n",
    "        q=q_try\n",
    "        acc=1.0\n",
    "    else:\n",
    "        acc=0.0\n",
    "    record.write(\"%d       \"%i)\n",
    "    record.write(\"%f       \"%q)\n",
    "    record.write(\"%f       \"%acc)\n",
    "    \n",
    "    record.write(\"\\n\")"
   ]
  },
  {
   "cell_type": "code",
   "execution_count": null,
   "id": "fb1954a4-34ae-4213-8c6a-845387c4d446",
   "metadata": {},
   "outputs": [],
   "source": [
    "count, bins, ignored = plt.hist(x, 15, density=True)\n",
    ">>> plt.plot(bins, np.ones_like(bins), linewidth=2, color='r')\n",
    ">>> plt.show()"
   ]
  },
  {
   "cell_type": "code",
   "execution_count": null,
   "id": "3ad7847f-109c-41be-a5b1-e551105e7225",
   "metadata": {},
   "outputs": [],
   "source": [
    "i,j,k= pylab.loadtxt('metrogauss1.txt', unpack=True)\n",
    "plt.plot(i,j)"
   ]
  },
  {
   "cell_type": "code",
   "execution_count": 4,
   "id": "e1bb3f73-5af4-41c4-8485-33eeb8e63a27",
   "metadata": {},
   "outputs": [],
   "source": [
    "cwd = os.getcwd()\n",
    "filename = 'metrogauss1.txt'\n",
    "file=open(os.path.join(cwd,filename),\"w\")\n",
    "qq=np.zeros(nstat)"
   ]
  },
  {
   "cell_type": "markdown",
   "id": "dcc34822-33f6-46c9-a8ce-b2fb189a5aed",
   "metadata": {},
   "source": [
    "## Let's test the performance for future projec"
   ]
  },
  {
   "cell_type": "code",
   "execution_count": 5,
   "id": "f7112145-c8a6-44de-8424-7cbe06379744",
   "metadata": {},
   "outputs": [],
   "source": [
    "def sampling_distribution(qq, start, avg, var, delta, nstat):\n",
    "    qq[0]=start\n",
    "    acc=np.zeros(nstat)\n",
    "    for i in tqdm(range(1,nstat)):\n",
    "        x= np.random.uniform(0,1)\n",
    "        y= np.random.uniform(0,1)\n",
    "        q_try=qq[i-1] + delta*(1.0-2.0*x) #mi muovo di +- delta attorno al vecchio valore \n",
    "    \n",
    "        z = np.exp(((qq[i-1]-avg)**2)-(q_try-avg)**2)/(2*var)   # ratio of probab\n",
    "    \n",
    "        if(y<z):\n",
    "            qq[i]=q_try\n",
    "            acc[i]=1.0\n",
    "        else:\n",
    "            qq[i]=qq[i-1]\n",
    "            acc[i]=0.0\n",
    "        \n",
    "#         if(i%1000000==0):\n",
    "#            print(i)\n",
    "        \n",
    "    return qq, acc\n",
    "        \n",
    "    \n",
    "    "
   ]
  },
  {
   "cell_type": "code",
   "execution_count": 6,
   "id": "fc2b381f-fe4e-485c-8936-3161440a7046",
   "metadata": {
    "tags": []
   },
   "outputs": [
    {
     "data": {
      "application/vnd.jupyter.widget-view+json": {
       "model_id": "985e6799653d434f9a5c03a1d8cb5e59",
       "version_major": 2,
       "version_minor": 0
      },
      "text/plain": [
       "  0%|          | 0/999999999 [00:00<?, ?it/s]"
      ]
     },
     "metadata": {},
     "output_type": "display_data"
    },
    {
     "name": "stdout",
     "output_type": "stream",
     "text": [
      "3472.85114825\n"
     ]
    }
   ],
   "source": [
    "strt=timer()\n",
    "qq, acc = sampling_distribution(qq, start, avg, var, delta, nstat)\n",
    "end=timer()\n",
    "print(end - strt)"
   ]
  },
  {
   "cell_type": "code",
   "execution_count": null,
   "id": "cac66c51-7423-48f9-a034-f6df89f89e1d",
   "metadata": {
    "tags": []
   },
   "outputs": [],
   "source": [
    "plt.plot(qq)"
   ]
  },
  {
   "cell_type": "code",
   "execution_count": 8,
   "id": "41809a63-cd25-476c-8138-888116a921d9",
   "metadata": {
    "tags": []
   },
   "outputs": [],
   "source": [
    "#spedup\n",
    "@njit\n",
    "def spedup_sampling_distribution(qq, start, avg, var, delta, nstat):\n",
    "    qq[0]=start\n",
    "    acc=np.zeros(nstat)\n",
    "    for i in range(1,nstat):\n",
    "        x= np.random.uniform(0,1)\n",
    "        y= np.random.uniform(0,1)\n",
    "        q_try=qq[i-1] + delta*(1.0-2.0*x) #mi muovo di +- delta attorno al vecchio valore \n",
    "    \n",
    "        #z = np.exp(((qq[i-1]-avg)**2)-(q_try-avg)**2)/(2*var)   # ratio of probab\n",
    "        z = qq[i-1]/q_try * np.exp(((qq[i-1]-avg)**2)-(q_try-avg)**2)/(2*var)\n",
    "        if(y<z):\n",
    "            qq[i]=q_try\n",
    "            acc[i]=1.0\n",
    "        else:\n",
    "            qq[i]=qq[i-1]\n",
    "            acc[i]=0.0        \n",
    "    return qq, acc"
   ]
  },
  {
   "cell_type": "code",
   "execution_count": 9,
   "id": "b7ec8527-e949-423b-8f51-a5ee14b651b7",
   "metadata": {},
   "outputs": [
    {
     "name": "stdout",
     "output_type": "stream",
     "text": [
      "0.5747932920003223\n"
     ]
    }
   ],
   "source": [
    "strt=timer()\n",
    "qq, acc = spedup_sampling_distribution(qq, start, avg, var, delta, nstat)\n",
    "end=timer()\n",
    "print(end - strt)"
   ]
  },
  {
   "cell_type": "code",
   "execution_count": null,
   "id": "4a2574ea-d8e9-42ba-bef4-b2f4d1220d02",
   "metadata": {},
   "outputs": [],
   "source": [
    "plt.plot(qq)"
   ]
  },
  {
   "cell_type": "code",
   "execution_count": 9,
   "id": "887eeeef-e9ee-439c-b988-01ff8706271a",
   "metadata": {},
   "outputs": [
    {
     "name": "stderr",
     "output_type": "stream",
     "text": [
      "/opt/homebrew/lib/python3.9/site-packages/numba/core/decorators.py:253: RuntimeWarning: nopython is set for njit and is ignored\n",
      "  warnings.warn('nopython is set for njit and is ignored', RuntimeWarning)\n"
     ]
    }
   ],
   "source": [
    "@numba.njit(\"UniTuple(f8[:], 2)(f8[:],f8, f8, f8, f8, i8)\", nopython=True, nogil=True)\n",
    "def sspedup_sampling_distribution(qq, start, avg, var, delta, nstat):\n",
    "    qq[0]=start\n",
    "    acc=np.zeros(nstat)\n",
    "    for i in range(1,nstat):\n",
    "        x= np.random.uniform(0,1)\n",
    "        y= np.random.uniform(0,1)\n",
    "        q_try=qq[i-1] + delta*(1.0-2.0*x) #mi muovo di +- delta attorno al vecchio valore \n",
    "    \n",
    "        z = np.exp(((qq[i-1]-avg)**2)-(q_try-avg)**2)/(2*var)   # ratio of probab\n",
    "    \n",
    "        if(y<z):\n",
    "            qq[i]=q_try\n",
    "            acc[i]=1.0\n",
    "        else:\n",
    "            qq[i]=qq[i-1]\n",
    "            acc[i]=0.0        \n",
    "    return qq, acc"
   ]
  },
  {
   "cell_type": "code",
   "execution_count": 10,
   "id": "066ea759-43ce-43cf-8496-ad5762485b81",
   "metadata": {},
   "outputs": [
    {
     "name": "stdout",
     "output_type": "stream",
     "text": [
      "66.662345292\n"
     ]
    }
   ],
   "source": [
    "strt=timer()\n",
    "qq, acc = sspedup_sampling_distribution(qq, start, avg, var, delta, nstat)\n",
    "end=timer()\n",
    "print(end - strt)"
   ]
  }
 ],
 "metadata": {
  "kernelspec": {
   "display_name": "Python 3 (ipykernel)",
   "language": "python",
   "name": "python3"
  },
  "language_info": {
   "codemirror_mode": {
    "name": "ipython",
    "version": 3
   },
   "file_extension": ".py",
   "mimetype": "text/x-python",
   "name": "python",
   "nbconvert_exporter": "python",
   "pygments_lexer": "ipython3",
   "version": "3.9.15"
  }
 },
 "nbformat": 4,
 "nbformat_minor": 5
}
