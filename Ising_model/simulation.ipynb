{
 "cells": [
  {
   "cell_type": "markdown",
   "id": "94f14d63-86f4-4488-8132-c9ade8ac6811",
   "metadata": {},
   "source": [
    "# Simulation of ising model"
   ]
  },
  {
   "cell_type": "code",
   "execution_count": 1,
   "id": "1b8c6503-6f5e-411c-a6b3-1c0b5d8882e9",
   "metadata": {},
   "outputs": [],
   "source": [
    "import numpy as np\n",
    "import concurrent.futures\n",
    "from functools import partial\n",
    "from tqdm.notebook import tqdm\n",
    "from time import sleep\n",
    "import pylab\n",
    "import os\n",
    "import matplotlib.pyplot as plt\n",
    "from matplotlib import style\n",
    "#speed things up\n",
    "import numba\n",
    "from numba import njit\n",
    "from numba import jit\n",
    "from numba import prange\n",
    "from numba_progress import ProgressBar\n",
    "from scipy.ndimage import convolve, generate_binary_structure\n",
    "from timeit import default_timer as timer\n",
    "#style\n",
    "plt.style.use(['science','notebook','grid'])"
   ]
  },
  {
   "cell_type": "code",
   "execution_count": 1,
   "id": "81486902-06e1-4c99-ab4a-c1b46978ae3a",
   "metadata": {},
   "outputs": [],
   "source": [
    "#external field\n",
    "f_ext=0"
   ]
  },
  {
   "cell_type": "code",
   "execution_count": 3,
   "id": "54a14226-8dcd-4efc-925d-84d2f62f2b8b",
   "metadata": {},
   "outputs": [],
   "source": [
    "#funzione che calcola che tiene conto di PBC per un generico reticolo rettangolare (nlatt_x,nlatt_y)\n",
    "def boundaries_cond(nlatt_x,nlatt_y):\n",
    "    nlatt_x = int(nlatt_x)\n",
    "    nlatt_y = int(nlatt_y)\n",
    "    if (nlatt_x == nlatt_y):\n",
    "        npp = np.zeros(nlatt_x).astype(np.int64)\n",
    "        nmm = np.zeros(nlatt_x).astype(np.int64)\n",
    "        \n",
    "        for i in range(nlatt_x):\n",
    "            npp[i] = i+1\n",
    "            nmm[i] = i-1\n",
    "        npp[nlatt_x - 1] = 0\n",
    "        nmm[0] = nlatt_x - 1\n",
    "        return npp,nmm\n",
    "\n",
    "    else:\n",
    "        nppx = np.zeros(nlatt_x).astype(np.int64)\n",
    "        nmmx = np.zeros(nlatt_x).astype(np.int64)\n",
    "        nppy = np.zeros(nlatt_y).astype(np.int64)\n",
    "        nmmy = np.zeros(nlatt_y).astype(np.int64)\n",
    "        for i in range(nlatt_x):\n",
    "            nppx[i] = i + 1\n",
    "            nmmx[i] = i - 1\n",
    "        nppx[nlatt_x - 1] = 0\n",
    "        nmmx[0]= nlatt_x - 1\n",
    "\n",
    "        for i in range(nlatt_y):\n",
    "            nppy[i] = i+1    \n",
    "            nmmy[i] = i-1\n",
    "        nppy[nlatt_y - 1] = 0\n",
    "        nmmy[0]  = nlatt_y - 1\n",
    "\n",
    "        return nppx,nmmx,nppy,nmmy "
   ]
  },
  {
   "cell_type": "code",
   "execution_count": 4,
   "id": "70d0e782-7747-47fa-84ea-42995548696a",
   "metadata": {},
   "outputs": [],
   "source": [
    "#inizializzazione lattice  0 parte a freddo , 1 a caldo 50 su e 50 giu, ----> aggiungere carica da file o partenze particolari\n",
    "@jit(parallel=True)\n",
    "def init(flag, Nx, Ny):   \n",
    "    field = np.zeros((Nx,Ny))\n",
    "    if (flag == 0):      \n",
    "        field[:][:] = 1\n",
    "        return field\n",
    "    elif (flag == 1):\n",
    "        for i in prange (0,Nx):\n",
    "            for j in prange(0,Ny):\n",
    "                r = np.random.uniform(0,1)\n",
    "                if (r<0.5):\n",
    "                     field[i][j] = 1\n",
    "                else:\n",
    "                    field[i][j] = -1\n",
    "        return field "
   ]
  },
  {
   "cell_type": "code",
   "execution_count": 5,
   "id": "1e5a1fb8-467f-48d9-ba24-6f3214e5fff2",
   "metadata": {
    "tags": []
   },
   "outputs": [],
   "source": [
    "#Metropolis Update\n",
    "@njit(\"(f8[:,:],f8, i8[:], i8[:])\", cache=True)\n",
    "def metropolis(field, beta, npp, nmm):\n",
    "    nvol=int(field.shape[0]*field.shape[1])\n",
    "    Nx = field.shape[0]\n",
    "    Ny = field.shape[1]\n",
    "    for i in range(0,nvol):\n",
    "        x = int(np.random.uniform(0,1) * Nx)    #python indicizza da 0 a n-1 per a[n]\n",
    "        y = int(np.random.uniform(0,1) * Ny)\n",
    "        \n",
    "        xp = npp[x]\n",
    "        xm = nmm[x]\n",
    "        yp = npp[y]\n",
    "        ym = nmm[y]\n",
    "        \n",
    "        f = beta * (field[x][yp] + field[x][ym] + field[xp][y] + field[xm][y] + f_ext)   #calcolo la 'forza' + eventuale campo esterno\n",
    "        \n",
    "        s_i = field[x][y]    #spin attuale\n",
    "        \n",
    "        p_rat = np.exp(-2 * f * s_i)\n",
    "        r = np.random.uniform(0,1)     #test accettanza\n",
    "        \n",
    "        if(r < p_rat):\n",
    "            field[x][y] = -1*s_i"
   ]
  },
  {
   "cell_type": "code",
   "execution_count": 6,
   "id": "7837208c-d41f-453e-b619-165090090ac0",
   "metadata": {},
   "outputs": [],
   "source": [
    "#Measure energy\n",
    "@njit(\"f8(f8[:,:], i8[:], i8[:])\")\n",
    "def energy(field, npp, nmm):\n",
    "    ene=0.0\n",
    "    for x in range(0,field.shape[0]):\n",
    "        for y in range(0,field.shape[1]):\n",
    "            xp = npp[x]\n",
    "            xm = nmm[x]\n",
    "            yp = npp[y]\n",
    "            ym = nmm[y]\n",
    "            f = field[x][yp] + field[x][ym] + field[xp][y] + field[xm][y]\n",
    "            ene = ene -  0.5*f*field[x,y]\n",
    "            ene = ene - f_ext*field[x,y]\n",
    "    ene = ene/(field.shape[0]*field.shape[1])\n",
    "    return ene  "
   ]
  },
  {
   "cell_type": "code",
   "execution_count": 7,
   "id": "54d6c630-cd65-4a93-9a0d-7bf215e9c5ff",
   "metadata": {},
   "outputs": [],
   "source": [
    "#Measure magnetization\n",
    "@njit(\"f8(f8[:,:], i8[:], i8[:])\")\n",
    "def magnetization(field, npp, nmm):\n",
    "    magn=0.0\n",
    "    for x in prange(0, field.shape[0]):\n",
    "        for y in prange(0, field.shape[1]):\n",
    "            magn += field[x,y]\n",
    "    magn = magn/(field.shape[0]*field.shape[1])\n",
    "    return magn"
   ]
  },
  {
   "cell_type": "markdown",
   "id": "07f72151-60f6-447a-b27d-782303733f63",
   "metadata": {},
   "source": [
    "#### Parametri per le simulazioni"
   ]
  },
  {
   "cell_type": "code",
   "execution_count": 8,
   "id": "501806d9-ab6b-4b0b-b61a-b701efc5ed31",
   "metadata": {},
   "outputs": [],
   "source": [
    "beta_exp = np.round(np.arange(0.3,0.55,0.002), decimals=3)\n",
    "beta_exp_try = np.round(np.arange(0.3,0.31,0.001), decimals=3)\n",
    "dim = np.arange(10,75,10)\n",
    "dim_try =np.arange(10,30,10)\n",
    "N=50\n",
    "save_measure=25\n",
    "measures=2000000\n",
    "measures_try=10000"
   ]
  },
  {
   "cell_type": "code",
   "execution_count": null,
   "id": "3b61e96f-903b-4b92-aa34-10f545c499de",
   "metadata": {
    "jupyter": {
     "source_hidden": true
    },
    "tags": []
   },
   "outputs": [],
   "source": [
    "def sim(beta, measures):\n",
    "    npp, nmm = boundaries_cond(N,N)\n",
    "    file=open('simulation_test.txt',\"w\")\n",
    "    file.write(\"#betas\\t\\tEnergy\\t\\tMagn\\n\")\n",
    "    for bs in tqdm(beta):\n",
    "        field = init(1, N, N)\n",
    "        for meas in range(measures):\n",
    "            metropolis(field, bs, npp, nmm)\n",
    "            if(meas%save_measure==0):\n",
    "                file.write(\"%f\\t\\t%f.8\\t\\t%.8f\\n\"%(bs, energy(field, npp, nmm), magnetization(field, npp, nmm)))\n",
    "    file.close()"
   ]
  },
  {
   "cell_type": "code",
   "execution_count": null,
   "id": "d4e581b5-5ec4-4406-9355-47ca492a81e6",
   "metadata": {
    "jupyter": {
     "source_hidden": true
    },
    "tags": []
   },
   "outputs": [],
   "source": [
    "sim(beta_exp,measures)"
   ]
  },
  {
   "cell_type": "code",
   "execution_count": null,
   "id": "74f31097-fb7a-43e1-bb30-63d6ca44cb03",
   "metadata": {
    "jupyter": {
     "source_hidden": true
    },
    "tags": []
   },
   "outputs": [],
   "source": [
    "beta, meas, es, mgns = np.loadtxt('a_simulation_30_old.txt', unpack=True)"
   ]
  },
  {
   "cell_type": "code",
   "execution_count": null,
   "id": "36975547-a4cd-410e-824a-93a3211f4139",
   "metadata": {
    "jupyter": {
     "source_hidden": true
    },
    "tags": []
   },
   "outputs": [],
   "source": [
    "asmatrix = np.column_stack((beta, meas, mgns))\n",
    "bs=asmatrix[:,0]\n",
    "asmatrix[bs==0.3,2]"
   ]
  },
  {
   "cell_type": "code",
   "execution_count": null,
   "id": "706ae611-7802-4070-b294-d3026484a946",
   "metadata": {
    "jupyter": {
     "source_hidden": true
    },
    "tags": []
   },
   "outputs": [],
   "source": [
    "m=[]\n",
    "for bs in tqdm(beta_exp):\n",
    "    indices=asmatrix[:,0]\n",
    "    mgns= np.sum(np.abs(asmatrix[(indices == bs),2]))\n",
    "    mgns = mgns/(len(asmatrix[(indices == bs),2]))\n",
    "    m.append(mgns)\n",
    "    \n"
   ]
  },
  {
   "cell_type": "code",
   "execution_count": null,
   "id": "04f44aeb-d5ee-467d-94b3-5bb891bfc500",
   "metadata": {
    "jupyter": {
     "source_hidden": true
    },
    "tags": []
   },
   "outputs": [],
   "source": [
    "plt.figure(figsize=(20,10))\n",
    "plt.plot(beta_exp,m,'.')\n",
    "plt.show()"
   ]
  },
  {
   "cell_type": "markdown",
   "id": "0f4df5b3-f29a-45af-89bc-962e61eabb33",
   "metadata": {},
   "source": [
    "#### Monte Carlo simulation for a given lattice dimension"
   ]
  },
  {
   "cell_type": "code",
   "execution_count": null,
   "id": "db6138d7-22f6-4697-98b8-eaf74f783777",
   "metadata": {},
   "outputs": [],
   "source": [
    "def sim(beta, measures, save_step, n_latt):\n",
    "    npp, nmm = boundaries_cond(n_latt,n_latt)\n",
    "    filename=f\"simulation_{n_latt}.txt\"\n",
    "    file = open(filename,\"w\")\n",
    "    file.write(\"#betas\\t\\tEnergy\\t\\tMagn\\n\")\n",
    "    for bs in beta:\n",
    "        field = init(1, n_latt, n_latt)\n",
    "        for meas in range(measures):\n",
    "            metropolis(field, bs, npp, nmm)\n",
    "            if(meas%save_measure==0):\n",
    "                file.write(\"%f\\t\\t%f\\t\\t%f\\n\"%(bs, energy(field, npp, nmm), magnetization(field, npp, nmm)))\n",
    "    file.close()"
   ]
  },
  {
   "cell_type": "markdown",
   "id": "9d44f358-3416-4646-9f74-f4ffbcbc9da8",
   "metadata": {},
   "source": [
    "#### extended to multiple lattice dimensions: "
   ]
  },
  {
   "cell_type": "code",
   "execution_count": null,
   "id": "4591c8e9-5696-4cea-8273-a43480f645d0",
   "metadata": {},
   "outputs": [],
   "source": [
    "def sim_n(beta, measures, save_step, n_latt):\n",
    "    for n in tqdm(n_latt):\n",
    "        sim(beta, measures, save_step, n)"
   ]
  },
  {
   "cell_type": "code",
   "execution_count": null,
   "id": "2882e028-00dc-4e73-a6b6-c8190a049577",
   "metadata": {},
   "outputs": [],
   "source": [
    "sim_n(beta_exp, measures, save_measure, dim)"
   ]
  },
  {
   "cell_type": "code",
   "execution_count": 9,
   "id": "97739058-3b9e-4b76-9240-d89d443933fb",
   "metadata": {
    "jupyter": {
     "source_hidden": true
    },
    "tags": []
   },
   "outputs": [],
   "source": [
    "def sim_bootstrap(measures, save_measure, beta, n_latt, names,i):\n",
    "    npp, nmm = boundaries_cond(n_latt,n_latt)\n",
    "    filename=f\"{names}_{n_latt}_{i}.txt\"\n",
    "    file = open(filename,\"w\")\n",
    "    file.write(\"#beta\\t\\tMagn\\n\")\n",
    "    field = init(1, n_latt, n_latt)\n",
    "    for meas in tqdm(range(measures)):\n",
    "            metropolis(field, beta, npp, nmm)\n",
    "            if(meas%save_measure==0):\n",
    "                file.write(\"%f\\t\\t%.8f\\n\"%(beta, magnetization(field, npp, nmm)))\n",
    "    file.close()"
   ]
  },
  {
   "cell_type": "code",
   "execution_count": 10,
   "id": "bdc40040-7d6e-4867-bc04-34f592702ced",
   "metadata": {
    "jupyter": {
     "source_hidden": true
    },
    "tags": []
   },
   "outputs": [],
   "source": [
    "def threading(bet, names, n_latt, n_sim, measures, save_measure):\n",
    "    with concurrent.futures.ThreadPoolExecutor() as executor:\n",
    "        for i in range(165,n_sim): executor.submit(sim_bootstrap, measures, save_measure, bet, n_latt,names, i)\n",
    "        "
   ]
  },
  {
   "cell_type": "code",
   "execution_count": 11,
   "id": "434d0f0c-777f-4462-8308-fbe2976bc7f6",
   "metadata": {
    "collapsed": true,
    "jupyter": {
     "outputs_hidden": true,
     "source_hidden": true
    },
    "tags": []
   },
   "outputs": [
    {
     "name": "stderr",
     "output_type": "stream",
     "text": [
      "/var/folders/7b/mxhdlhl16yjddckjcf2qpms00000gn/T/ipykernel_55927/877078576.py:1: NumbaWarning: \u001b[1m\n",
      "Compilation is falling back to object mode WITHOUT looplifting enabled because Function \"init\" failed type inference due to: \u001b[1m\u001b[1mCannot determine Numba type of <class 'numba.core.dispatcher.LiftedLoop'>\u001b[0m\n",
      "\u001b[1m\n",
      "File \"../../../../../../var/folders/7b/mxhdlhl16yjddckjcf2qpms00000gn/T/ipykernel_55927/877078576.py\", line 8:\u001b[0m\n",
      "\u001b[1m<source missing, REPL/exec in use?>\u001b[0m\n",
      "\u001b[0m\u001b[0m\n",
      "  @jit(parallel=True)\n",
      "/opt/homebrew/lib/python3.9/site-packages/numba/core/object_mode_passes.py:151: NumbaWarning: \u001b[1mFunction \"init\" was compiled in object mode without forceobj=True, but has lifted loops.\n",
      "\u001b[1m\n",
      "File \"../../../../../../var/folders/7b/mxhdlhl16yjddckjcf2qpms00000gn/T/ipykernel_55927/877078576.py\", line 3:\u001b[0m\n",
      "\u001b[1m<source missing, REPL/exec in use?>\u001b[0m\n",
      "\u001b[0m\n",
      "  warnings.warn(errors.NumbaWarning(warn_msg,\n",
      "/opt/homebrew/lib/python3.9/site-packages/numba/core/object_mode_passes.py:161: NumbaDeprecationWarning: \u001b[1m\n",
      "Fall-back from the nopython compilation path to the object mode compilation path has been detected, this is deprecated behaviour.\n",
      "\n",
      "For more information visit https://numba.readthedocs.io/en/stable/reference/deprecation.html#deprecation-of-object-mode-fall-back-behaviour-when-using-jit\n",
      "\u001b[1m\n",
      "File \"../../../../../../var/folders/7b/mxhdlhl16yjddckjcf2qpms00000gn/T/ipykernel_55927/877078576.py\", line 3:\u001b[0m\n",
      "\u001b[1m<source missing, REPL/exec in use?>\u001b[0m\n",
      "\u001b[0m\n",
      "  warnings.warn(errors.NumbaDeprecationWarning(msg,\n",
      "OMP: Info #276: omp_set_nested routine deprecated, please use omp_set_max_active_levels instead.\n"
     ]
    },
    {
     "data": {
      "application/vnd.jupyter.widget-view+json": {
       "model_id": "060d1a575c5c4082adb665c84d90b3b4",
       "version_major": 2,
       "version_minor": 0
      },
      "text/plain": [
       "  0%|          | 0/2000000 [00:00<?, ?it/s]"
      ]
     },
     "metadata": {},
     "output_type": "display_data"
    },
    {
     "data": {
      "application/vnd.jupyter.widget-view+json": {
       "model_id": "75bf36973f27425cab3014e75238b72c",
       "version_major": 2,
       "version_minor": 0
      },
      "text/plain": [
       "  0%|          | 0/2000000 [00:00<?, ?it/s]"
      ]
     },
     "metadata": {},
     "output_type": "display_data"
    },
    {
     "data": {
      "application/vnd.jupyter.widget-view+json": {
       "model_id": "6844e21b940d48658f30290846bdef8e",
       "version_major": 2,
       "version_minor": 0
      },
      "text/plain": [
       "  0%|          | 0/2000000 [00:00<?, ?it/s]"
      ]
     },
     "metadata": {},
     "output_type": "display_data"
    },
    {
     "data": {
      "application/vnd.jupyter.widget-view+json": {
       "model_id": "bcee961c262648f0bf7842c786b691a9",
       "version_major": 2,
       "version_minor": 0
      },
      "text/plain": [
       "  0%|          | 0/2000000 [00:00<?, ?it/s]"
      ]
     },
     "metadata": {},
     "output_type": "display_data"
    },
    {
     "data": {
      "application/vnd.jupyter.widget-view+json": {
       "model_id": "ae43d95634f94cf38d33db2f28f50965",
       "version_major": 2,
       "version_minor": 0
      },
      "text/plain": [
       "  0%|          | 0/2000000 [00:00<?, ?it/s]"
      ]
     },
     "metadata": {},
     "output_type": "display_data"
    },
    {
     "data": {
      "application/vnd.jupyter.widget-view+json": {
       "model_id": "6065b71d119e405da6c292b46055cc3b",
       "version_major": 2,
       "version_minor": 0
      },
      "text/plain": [
       "  0%|          | 0/2000000 [00:00<?, ?it/s]"
      ]
     },
     "metadata": {},
     "output_type": "display_data"
    },
    {
     "data": {
      "application/vnd.jupyter.widget-view+json": {
       "model_id": "5904c2c2af194ea6b8eb7fcf0307b0a4",
       "version_major": 2,
       "version_minor": 0
      },
      "text/plain": [
       "  0%|          | 0/2000000 [00:00<?, ?it/s]"
      ]
     },
     "metadata": {},
     "output_type": "display_data"
    },
    {
     "data": {
      "application/vnd.jupyter.widget-view+json": {
       "model_id": "f05cf97bd5d1463bb29533661560ac0f",
       "version_major": 2,
       "version_minor": 0
      },
      "text/plain": [
       "  0%|          | 0/2000000 [00:00<?, ?it/s]"
      ]
     },
     "metadata": {},
     "output_type": "display_data"
    },
    {
     "data": {
      "application/vnd.jupyter.widget-view+json": {
       "model_id": "3f954426475e4ab598a1ac371c8a7cbc",
       "version_major": 2,
       "version_minor": 0
      },
      "text/plain": [
       "  0%|          | 0/2000000 [00:00<?, ?it/s]"
      ]
     },
     "metadata": {},
     "output_type": "display_data"
    },
    {
     "data": {
      "application/vnd.jupyter.widget-view+json": {
       "model_id": "39b691d348404a8daef9387c5d43f2dc",
       "version_major": 2,
       "version_minor": 0
      },
      "text/plain": [
       "  0%|          | 0/2000000 [00:00<?, ?it/s]"
      ]
     },
     "metadata": {},
     "output_type": "display_data"
    },
    {
     "data": {
      "application/vnd.jupyter.widget-view+json": {
       "model_id": "5da0a2d853534f888dc5b0768a5ed591",
       "version_major": 2,
       "version_minor": 0
      },
      "text/plain": [
       "  0%|          | 0/2000000 [00:00<?, ?it/s]"
      ]
     },
     "metadata": {},
     "output_type": "display_data"
    },
    {
     "data": {
      "application/vnd.jupyter.widget-view+json": {
       "model_id": "bbd582337201429b93d173be2a3fa630",
       "version_major": 2,
       "version_minor": 0
      },
      "text/plain": [
       "  0%|          | 0/2000000 [00:00<?, ?it/s]"
      ]
     },
     "metadata": {},
     "output_type": "display_data"
    },
    {
     "data": {
      "application/vnd.jupyter.widget-view+json": {
       "model_id": "fe494eac499c48508a6c6a032918991b",
       "version_major": 2,
       "version_minor": 0
      },
      "text/plain": [
       "  0%|          | 0/2000000 [00:00<?, ?it/s]"
      ]
     },
     "metadata": {},
     "output_type": "display_data"
    },
    {
     "data": {
      "application/vnd.jupyter.widget-view+json": {
       "model_id": "b08343b5c8924956861a9d1b1640c515",
       "version_major": 2,
       "version_minor": 0
      },
      "text/plain": [
       "  0%|          | 0/2000000 [00:00<?, ?it/s]"
      ]
     },
     "metadata": {},
     "output_type": "display_data"
    },
    {
     "data": {
      "application/vnd.jupyter.widget-view+json": {
       "model_id": "a0e37a581c8247df9797ed61eb20345d",
       "version_major": 2,
       "version_minor": 0
      },
      "text/plain": [
       "  0%|          | 0/2000000 [00:00<?, ?it/s]"
      ]
     },
     "metadata": {},
     "output_type": "display_data"
    },
    {
     "name": "stderr",
     "output_type": "stream",
     "text": [
      "IOStream.flush timed out\n"
     ]
    },
    {
     "data": {
      "application/vnd.jupyter.widget-view+json": {
       "model_id": "2c0ec8abdece43d681f694cdfa69fda1",
       "version_major": 2,
       "version_minor": 0
      },
      "text/plain": [
       "  0%|          | 0/2000000 [00:00<?, ?it/s]"
      ]
     },
     "metadata": {},
     "output_type": "display_data"
    },
    {
     "data": {
      "application/vnd.jupyter.widget-view+json": {
       "model_id": "cee78e85df794ae5a2d7da2c4cda9211",
       "version_major": 2,
       "version_minor": 0
      },
      "text/plain": [
       "  0%|          | 0/2000000 [00:00<?, ?it/s]"
      ]
     },
     "metadata": {},
     "output_type": "display_data"
    },
    {
     "data": {
      "application/vnd.jupyter.widget-view+json": {
       "model_id": "d4087317e93a48068a8d46d9ae6bba4a",
       "version_major": 2,
       "version_minor": 0
      },
      "text/plain": [
       "  0%|          | 0/2000000 [00:00<?, ?it/s]"
      ]
     },
     "metadata": {},
     "output_type": "display_data"
    },
    {
     "data": {
      "application/vnd.jupyter.widget-view+json": {
       "model_id": "6e4c0e8ed8e0423ca179178c0ab521c5",
       "version_major": 2,
       "version_minor": 0
      },
      "text/plain": [
       "  0%|          | 0/2000000 [00:00<?, ?it/s]"
      ]
     },
     "metadata": {},
     "output_type": "display_data"
    },
    {
     "data": {
      "application/vnd.jupyter.widget-view+json": {
       "model_id": "c530920fb4f249a581bb02993508d48c",
       "version_major": 2,
       "version_minor": 0
      },
      "text/plain": [
       "  0%|          | 0/2000000 [00:00<?, ?it/s]"
      ]
     },
     "metadata": {},
     "output_type": "display_data"
    },
    {
     "data": {
      "application/vnd.jupyter.widget-view+json": {
       "model_id": "087712c6f86b4d8e9d49dafdf1129dd9",
       "version_major": 2,
       "version_minor": 0
      },
      "text/plain": [
       "  0%|          | 0/2000000 [00:00<?, ?it/s]"
      ]
     },
     "metadata": {},
     "output_type": "display_data"
    },
    {
     "data": {
      "application/vnd.jupyter.widget-view+json": {
       "model_id": "83b72d3358624bae9d66450ceb3b4dcf",
       "version_major": 2,
       "version_minor": 0
      },
      "text/plain": [
       "  0%|          | 0/2000000 [00:00<?, ?it/s]"
      ]
     },
     "metadata": {},
     "output_type": "display_data"
    },
    {
     "data": {
      "application/vnd.jupyter.widget-view+json": {
       "model_id": "b7bda014ec98459c90196514d09181bc",
       "version_major": 2,
       "version_minor": 0
      },
      "text/plain": [
       "  0%|          | 0/2000000 [00:00<?, ?it/s]"
      ]
     },
     "metadata": {},
     "output_type": "display_data"
    },
    {
     "data": {
      "application/vnd.jupyter.widget-view+json": {
       "model_id": "fb0837a38f204dbaa1ab90941d7b2e5d",
       "version_major": 2,
       "version_minor": 0
      },
      "text/plain": [
       "  0%|          | 0/2000000 [00:00<?, ?it/s]"
      ]
     },
     "metadata": {},
     "output_type": "display_data"
    },
    {
     "data": {
      "application/vnd.jupyter.widget-view+json": {
       "model_id": "b64d6c4c910443bd9b9ecbb80a6da769",
       "version_major": 2,
       "version_minor": 0
      },
      "text/plain": [
       "  0%|          | 0/2000000 [00:00<?, ?it/s]"
      ]
     },
     "metadata": {},
     "output_type": "display_data"
    },
    {
     "data": {
      "application/vnd.jupyter.widget-view+json": {
       "model_id": "f9d1c5de6fd047e6b537932d076e7caa",
       "version_major": 2,
       "version_minor": 0
      },
      "text/plain": [
       "  0%|          | 0/2000000 [00:00<?, ?it/s]"
      ]
     },
     "metadata": {},
     "output_type": "display_data"
    },
    {
     "data": {
      "application/vnd.jupyter.widget-view+json": {
       "model_id": "bbf72451e93342dabcdaab9dd317ad3e",
       "version_major": 2,
       "version_minor": 0
      },
      "text/plain": [
       "  0%|          | 0/2000000 [00:00<?, ?it/s]"
      ]
     },
     "metadata": {},
     "output_type": "display_data"
    },
    {
     "data": {
      "application/vnd.jupyter.widget-view+json": {
       "model_id": "cf42ddb0c383463eb92e02053f5cbc41",
       "version_major": 2,
       "version_minor": 0
      },
      "text/plain": [
       "  0%|          | 0/2000000 [00:00<?, ?it/s]"
      ]
     },
     "metadata": {},
     "output_type": "display_data"
    },
    {
     "data": {
      "application/vnd.jupyter.widget-view+json": {
       "model_id": "c45c61e1a90242e2b54b6c248ad96d98",
       "version_major": 2,
       "version_minor": 0
      },
      "text/plain": [
       "  0%|          | 0/2000000 [00:00<?, ?it/s]"
      ]
     },
     "metadata": {},
     "output_type": "display_data"
    },
    {
     "data": {
      "application/vnd.jupyter.widget-view+json": {
       "model_id": "8fe32cd0b1474bd08203aac2329b4ed8",
       "version_major": 2,
       "version_minor": 0
      },
      "text/plain": [
       "  0%|          | 0/2000000 [00:00<?, ?it/s]"
      ]
     },
     "metadata": {},
     "output_type": "display_data"
    },
    {
     "data": {
      "application/vnd.jupyter.widget-view+json": {
       "model_id": "e22d9b65c26f4070ad8e2e0dc75aa59b",
       "version_major": 2,
       "version_minor": 0
      },
      "text/plain": [
       "  0%|          | 0/2000000 [00:00<?, ?it/s]"
      ]
     },
     "metadata": {},
     "output_type": "display_data"
    },
    {
     "data": {
      "application/vnd.jupyter.widget-view+json": {
       "model_id": "86ae6d50ac864eee8e3b65c7f6a52d92",
       "version_major": 2,
       "version_minor": 0
      },
      "text/plain": [
       "  0%|          | 0/2000000 [00:00<?, ?it/s]"
      ]
     },
     "metadata": {},
     "output_type": "display_data"
    },
    {
     "data": {
      "application/vnd.jupyter.widget-view+json": {
       "model_id": "f08ee2500b6e4290ac5fad557f644c89",
       "version_major": 2,
       "version_minor": 0
      },
      "text/plain": [
       "  0%|          | 0/2000000 [00:00<?, ?it/s]"
      ]
     },
     "metadata": {},
     "output_type": "display_data"
    },
    {
     "data": {
      "application/vnd.jupyter.widget-view+json": {
       "model_id": "c885284d10c44ae7823bcb37aac56d1c",
       "version_major": 2,
       "version_minor": 0
      },
      "text/plain": [
       "  0%|          | 0/2000000 [00:00<?, ?it/s]"
      ]
     },
     "metadata": {},
     "output_type": "display_data"
    },
    {
     "data": {
      "application/vnd.jupyter.widget-view+json": {
       "model_id": "f7a28566c7ba4ddc8df8276d57c2e141",
       "version_major": 2,
       "version_minor": 0
      },
      "text/plain": [
       "  0%|          | 0/2000000 [00:00<?, ?it/s]"
      ]
     },
     "metadata": {},
     "output_type": "display_data"
    },
    {
     "name": "stderr",
     "output_type": "stream",
     "text": [
      "IOStream.flush timed out\n",
      "IOPub message rate exceeded.\n",
      "The Jupyter server will temporarily stop sending output\n",
      "to the client in order to avoid crashing it.\n",
      "To change this limit, set the config variable\n",
      "`--ServerApp.iopub_msg_rate_limit`.\n",
      "\n",
      "Current values:\n",
      "ServerApp.iopub_msg_rate_limit=1000.0 (msgs/sec)\n",
      "ServerApp.rate_limit_window=3.0 (secs)\n",
      "\n",
      "IOStream.flush timed out\n"
     ]
    },
    {
     "name": "stdout",
     "output_type": "stream",
     "text": [
      "CPU times: user 1h 16min 48s, sys: 1min 1s, total: 1h 17min 50s\n",
      "Wall time: 1h 18min\n"
     ]
    }
   ],
   "source": [
    "direct='test_bootstrap'\n",
    "#os.mkdir(direct)\n",
    "names = os.getcwd() + '/' + direct + '/' + 'simulation'\n",
    "%time threading(0.432, names, 50, 200, measures, save_measure)"
   ]
  },
  {
   "cell_type": "code",
   "execution_count": null,
   "id": "527cdabf-f3d2-4428-9629-dcb68f80a8db",
   "metadata": {
    "jupyter": {
     "source_hidden": true
    },
    "tags": []
   },
   "outputs": [],
   "source": [
    "#import tha data (only magnetgizations) of the \\sim 200 simulation for beta = 0.432 and n_latt=50 and do the statistics\n",
    "\n",
    "filepath = os.getcwd() + '/' + direct + '/' + 'simulation_50_'\n",
    "for file in range(0,176):\n",
    "    filename = filepath"
   ]
  },
  {
   "cell_type": "code",
   "execution_count": null,
   "id": "cc87fe27-ef50-43d7-a555-14ea1c70cc77",
   "metadata": {
    "jupyter": {
     "source_hidden": true
    },
    "tags": []
   },
   "outputs": [],
   "source": [
    "DIR = \n",
    "print len([name for name in os.listdir(DIR) if os.path.isfile(os.path.join(DIR, name))])"
   ]
  },
  {
   "cell_type": "code",
   "execution_count": null,
   "id": "ada4988a-a747-4c04-b094-eb6547e85ad3",
   "metadata": {},
   "outputs": [],
   "source": []
  },
  {
   "cell_type": "code",
   "execution_count": null,
   "id": "48a60cbb-d18d-45a5-9863-9f4c1f41550d",
   "metadata": {},
   "outputs": [],
   "source": []
  },
  {
   "cell_type": "code",
   "execution_count": null,
   "id": "2b1170c9-a054-4b8b-83ee-7e234bebe036",
   "metadata": {},
   "outputs": [],
   "source": []
  },
  {
   "cell_type": "code",
   "execution_count": null,
   "id": "a3178a1e-6893-4f98-9b13-a130be37799e",
   "metadata": {},
   "outputs": [],
   "source": []
  }
 ],
 "metadata": {
  "kernelspec": {
   "display_name": "Python 3 (ipykernel)",
   "language": "python",
   "name": "python3"
  },
  "language_info": {
   "codemirror_mode": {
    "name": "ipython",
    "version": 3
   },
   "file_extension": ".py",
   "mimetype": "text/x-python",
   "name": "python",
   "nbconvert_exporter": "python",
   "pygments_lexer": "ipython3",
   "version": "3.9.15"
  }
 },
 "nbformat": 4,
 "nbformat_minor": 5
}
