{
 "cells": [
  {
   "cell_type": "markdown",
   "id": "e60940ee-533c-483c-b57b-425d469c3b4a",
   "metadata": {},
   "source": [
    "# Multiprocessing/ threading"
   ]
  },
  {
   "cell_type": "code",
   "execution_count": 25,
   "id": "aa6bbc38-b12f-4cf7-95e7-c83bf848c29b",
   "metadata": {
    "tags": []
   },
   "outputs": [],
   "source": [
    "import numpy as np\n",
    "import requests\n",
    "import threading\n",
    "import concurrent.futures\n",
    "from tqdm.notebook import tqdm\n",
    "from time import sleep\n",
    "import time\n",
    "import pylab\n",
    "import os\n",
    "import matplotlib.pyplot as plt\n",
    "from matplotlib import style\n",
    "#speed things up\n",
    "import numba\n",
    "from numba import njit\n",
    "from numba import jit\n",
    "from numba import prange\n",
    "from numba_progress import ProgressBar\n",
    "from scipy.ndimage import convolve, generate_binary_structure\n",
    "from timeit import default_timer as timer\n",
    "#style\n",
    "plt.style.use(['science','notebook','grid'])"
   ]
  },
  {
   "cell_type": "code",
   "execution_count": 6,
   "id": "fe32d4b1-86f0-4bbe-a7f2-688bd1acb597",
   "metadata": {
    "tags": []
   },
   "outputs": [
    {
     "name": "stdout",
     "output_type": "stream",
     "text": [
      "Sleeping 1 second...\n",
      "Done Sleeping...\n",
      "Sleeping 1 second...\n",
      "Done Sleeping...\n",
      "Finished in 2.0 second (s) \n"
     ]
    }
   ],
   "source": [
    "start = time.perf_counter()\n",
    "\n",
    "\n",
    "\n",
    "def do_something () :\n",
    "    print('Sleeping 1 second...')\n",
    "    sleep(1)\n",
    "    print('Done Sleeping...')\n",
    "\n",
    "\n",
    "\n",
    "\n",
    "do_something()\n",
    "do_something()\n",
    "finish = time.perf_counter()\n",
    "print(f'Finished in {round(finish-start, 2)} second (s) ')"
   ]
  },
  {
   "cell_type": "code",
   "execution_count": 8,
   "id": "4c5a0600-fe69-4712-a96b-b91662f8b28f",
   "metadata": {
    "tags": []
   },
   "outputs": [],
   "source": [
    "#let's create the threads\n",
    "start = time.perf_counter()\n",
    "def do_something () :\n",
    "    print('Sleeping 1 second...')\n",
    "    sleep(1)\n",
    "    print('Done Sleeping...')\n",
    "finish = time.perf_counter()\n",
    "\n",
    "t1 = threading.Thread(target=do_something)\n",
    "t2 = threading.Thread(target=do_something)\n",
    "#if we compile this it run immediately but nothin its printed out so.."
   ]
  },
  {
   "cell_type": "code",
   "execution_count": 9,
   "id": "4e84a5a6-b31c-4f84-82c8-2ee089050f3a",
   "metadata": {
    "tags": []
   },
   "outputs": [
    {
     "name": "stdout",
     "output_type": "stream",
     "text": [
      "Sleeping 1 second...\n",
      "Sleeping 1 second...\n",
      "Done Sleeping...Done Sleeping...\n",
      "\n"
     ]
    }
   ],
   "source": [
    "t1.start()\n",
    "t2.start()"
   ]
  },
  {
   "cell_type": "code",
   "execution_count": 10,
   "id": "990d8a3c-c3c9-4e9e-a3ff-8adf7b636b76",
   "metadata": {
    "tags": []
   },
   "outputs": [
    {
     "name": "stdout",
     "output_type": "stream",
     "text": [
      "Sleeping 1 second...\n",
      "Sleeping 1 second...\n",
      "Finished in 0.0 second (s) \n",
      "Done Sleeping...\n",
      "Done Sleeping...\n"
     ]
    }
   ],
   "source": [
    "start = time.perf_counter()\n",
    "def do_something () :\n",
    "    print('Sleeping 1 second...')\n",
    "    sleep(1)\n",
    "    print('Done Sleeping...')\n",
    "finish = time.perf_counter()\n",
    "\n",
    "t1 = threading.Thread(target=do_something)\n",
    "t2 = threading.Thread(target=do_something)\n",
    "\n",
    "t1.start()\n",
    "t2.start()\n",
    "print(f'Finished in {round(finish-start, 2)} second (s) ') #it started both the threads and while threading our script run cuncorrently"
   ]
  },
  {
   "cell_type": "code",
   "execution_count": 11,
   "id": "e8cbdd78-147b-4bfa-abc2-c34a1262cfe7",
   "metadata": {
    "tags": []
   },
   "outputs": [
    {
     "name": "stdout",
     "output_type": "stream",
     "text": [
      "Sleeping 1 second...\n",
      "Sleeping 1 second...\n",
      "Done Sleeping...\n",
      "Done Sleeping...\n",
      "Finished in 0.0 second (s) \n"
     ]
    }
   ],
   "source": [
    "#in order to wait that our threads finish to run: (join)\n",
    "start = time.perf_counter()\n",
    "def do_something () :\n",
    "    print('Sleeping 1 second...')\n",
    "    sleep(1)\n",
    "    print('Done Sleeping...')\n",
    "finish = time.perf_counter()\n",
    "\n",
    "t1 = threading.Thread(target=do_something)\n",
    "t2 = threading.Thread(target=do_something)\n",
    "\n",
    "t1.start()\n",
    "t2.start()\n",
    "\n",
    "t1.join()\n",
    "t2.join()\n",
    "\n",
    "print(f'Finished in {round(finish-start, 2)} second (s) ') #it started both the threads and while threading our script run cuncorrently"
   ]
  },
  {
   "cell_type": "code",
   "execution_count": 14,
   "id": "85c3bae4-4d3e-4bc9-9221-06c698346714",
   "metadata": {
    "tags": []
   },
   "outputs": [
    {
     "name": "stdout",
     "output_type": "stream",
     "text": [
      "Sleeping 1 second...\n",
      "Sleeping 1 second...\n",
      "Sleeping 1 second...\n",
      "Sleeping 1 second...\n",
      "Sleeping 1 second...\n",
      "Sleeping 1 second...\n",
      "Sleeping 1 second...\n",
      "Sleeping 1 second...\n",
      "Sleeping 1 second...\n",
      "Sleeping 1 second...\n",
      "Done Sleeping...Done Sleeping...\n",
      "\n",
      "Done Sleeping...\n",
      "Done Sleeping...\n",
      "Done Sleeping...\n",
      "Done Sleeping...\n",
      "Done Sleeping...\n",
      "Done Sleeping...\n",
      "Done Sleeping...\n",
      "Done Sleeping...\n",
      "Finished in 1.0 second (s) \n"
     ]
    }
   ],
   "source": [
    "#threads in a loop\n",
    "start = time.perf_counter()\n",
    "def do_something () :\n",
    "    print('Sleeping 1 second...')\n",
    "    sleep(1)\n",
    "    print('Done Sleeping...')\n",
    "\n",
    "    \n",
    "threads=[]\n",
    "for _ in range(10): \n",
    "    t = threading.Thread(target=do_something)  #join not allowed in loop\n",
    "    t.start()\n",
    "    threads.append(t)\n",
    "    \n",
    "for thread in threads:\n",
    "    thread.join()\n",
    "    \n",
    "finish = time.perf_counter()\n",
    "\n",
    "         \n",
    "print(f'Finished in {round(finish-start, 2)} second (s) ') #it started both the threads and while threading our script run cuncorrently"
   ]
  },
  {
   "cell_type": "code",
   "execution_count": 16,
   "id": "b9312bb1-34ab-41c3-9604-f4c1e6c82ca7",
   "metadata": {
    "tags": []
   },
   "outputs": [
    {
     "name": "stdout",
     "output_type": "stream",
     "text": [
      "Sleeping 1.5 second(s)...\n",
      "Sleeping 1.5 second(s)...\n",
      "Sleeping 1.5 second(s)...\n",
      "Sleeping 1.5 second(s)...\n",
      "Sleeping 1.5 second(s)...\n",
      "Sleeping 1.5 second(s)...\n",
      "Sleeping 1.5 second(s)...\n",
      "Sleeping 1.5 second(s)...\n",
      "Sleeping 1.5 second(s)...\n",
      "Sleeping 1.5 second(s)...\n",
      "Done Sleeping...Done Sleeping...\n",
      "\n",
      "Done Sleeping...\n",
      "Done Sleeping...\n",
      "Done Sleeping...\n",
      "Done Sleeping...\n",
      "Done Sleeping...\n",
      "Done Sleeping...\n",
      "Done Sleeping...\n",
      "Done Sleeping...\n",
      "Finished in 1.51 second (s) \n"
     ]
    }
   ],
   "source": [
    "#arguments\n",
    "start = time.perf_counter()\n",
    "def do_something(seconds) :\n",
    "    print(f'Sleeping {seconds} second(s)...')\n",
    "    sleep(seconds)\n",
    "    print('Done Sleeping...')\n",
    "\n",
    "threads=[]\n",
    "for _ in range(10): \n",
    "    t = threading.Thread(target=do_something, args=[1.5]) #arguments passed by a list\n",
    "    t.start()\n",
    "    threads.append(t)\n",
    "    \n",
    "for thread in threads:\n",
    "    thread.join()\n",
    "    \n",
    "finish = time.perf_counter()\n",
    "\n",
    "         \n",
    "print(f'Finished in {round(finish-start, 2)} second (s) ')"
   ]
  },
  {
   "cell_type": "code",
   "execution_count": 20,
   "id": "01094ece-0419-484c-97df-0454a4f0250e",
   "metadata": {
    "tags": []
   },
   "outputs": [
    {
     "name": "stdout",
     "output_type": "stream",
     "text": [
      "Sleeping 1 second(s)...\n",
      "Sleeping 1 second(s)...\n",
      "Done Sleeping...\n",
      "Done Sleeping...\n",
      "Finished in 1.01 second (s) \n"
     ]
    }
   ],
   "source": [
    "#manual way to create threads (ThreadPool executor)\n",
    "start = time.perf_counter()\n",
    "def do_something(seconds) :\n",
    "    print(f'Sleeping {seconds} second(s)...')\n",
    "    sleep(seconds)\n",
    "    return 'Done Sleeping...'\n",
    "\n",
    "with concurrent.futures.ThreadPoolExecutor() as executor:\n",
    "    #execute a function one at time ---> submit method (return a future objects that allow us to grab the eventual return or check the state of our function)\n",
    "    f1 = executor.submit(do_something, 1)  #argument 1 second\n",
    "    f2 = executor.submit(do_something, 1)\n",
    "    print(f1.result())\n",
    "    print(f2.result())\n",
    "    \n",
    "    \n",
    "    \n",
    "\n",
    "# threads=[]\n",
    "# for _ in range(10): \n",
    "#     t = threading.Thread(target=do_something, args=[1.5]) #arguments passed by a list\n",
    "#     t.start()\n",
    "#     threads.append(t)\n",
    "\n",
    "# for thread in threads:\n",
    "#     thread.join()\n",
    "finish = time.perf_counter()\n",
    "\n",
    "\n",
    "print(f'Finished in {round(finish-start, 2)} second (s) ')\n",
    "\n",
    "\n",
    "\n",
    "\n"
   ]
  },
  {
   "cell_type": "code",
   "execution_count": 22,
   "id": "c84a2432-0fe6-4780-ab1b-5fa479ca3d98",
   "metadata": {
    "tags": []
   },
   "outputs": [
    {
     "name": "stdout",
     "output_type": "stream",
     "text": [
      "Sleeping 5 second(s)...\n",
      "Sleeping 4 second(s)...\n",
      "Sleeping 3 second(s)...\n",
      "Sleeping 2 second(s)...\n",
      "Sleeping 1 second(s)...\n",
      "Done Sleeping...1\n",
      "Done Sleeping...2\n",
      "Done Sleeping...3\n",
      "Done Sleeping...4\n",
      "Done Sleeping...5\n",
      "Finished in 5.01 second (s) \n"
     ]
    }
   ],
   "source": [
    "#with loop\n",
    "start = time.perf_counter()\n",
    "def do_something(seconds) :\n",
    "    print(f'Sleeping {seconds} second(s)...')\n",
    "    sleep(seconds)\n",
    "    return f'Done Sleeping...{seconds}'\n",
    "\n",
    "with concurrent.futures.ThreadPoolExecutor() as executor:\n",
    "    secs = [5,4,3,2,1]\n",
    "    results = [executor.submit(do_something, sec) for sec in secs]\n",
    "    for f in concurrent.futures.as_completed(results):\n",
    "        print(f.result())\n",
    "    \n",
    "\n",
    "# threads=[]\n",
    "# for _ in range(10): \n",
    "#     t = threading.Thread(target=do_something, args=[1.5]) #arguments passed by a list\n",
    "#     t.start()\n",
    "#     threads.append(t)\n",
    "\n",
    "# for thread in threads:\n",
    "#     thread.join()\n",
    "finish = time.perf_counter()\n",
    "\n",
    "\n",
    "print(f'Finished in {round(finish-start, 2)} second (s) ')\n",
    "# finishe in diff order cause  as_complethed method printed out in the order that are completed"
   ]
  },
  {
   "cell_type": "code",
   "execution_count": 23,
   "id": "4b907e44-2072-461f-9a0d-fff12269ce07",
   "metadata": {
    "tags": []
   },
   "outputs": [
    {
     "name": "stdout",
     "output_type": "stream",
     "text": [
      "Sleeping 5 second(s)...Sleeping 4 second(s)...\n",
      "Sleeping 3 second(s)...\n",
      "\n",
      "Sleeping 2 second(s)...\n",
      "Sleeping 1 second(s)...\n",
      "Done Sleeping...5\n",
      "Done Sleeping...4\n",
      "Done Sleeping...3\n",
      "Done Sleeping...2\n",
      "Done Sleeping...1\n",
      "Finished in 5.01 second (s) \n"
     ]
    }
   ],
   "source": [
    "#map method\n",
    "start = time.perf_counter()\n",
    "def do_something(seconds) :\n",
    "    print(f'Sleeping {seconds} second(s)...')\n",
    "    sleep(seconds)\n",
    "    return f'Done Sleeping...{seconds}'\n",
    "\n",
    "with concurrent.futures.ThreadPoolExecutor() as executor:\n",
    "    secs = [5,4,3,2,1]\n",
    "    results = executor.map(do_something, secs) #map runs the function for every value in secs \n",
    "                                                #instead of the previous that returned a future objet map will return the result\n",
    "                                                #in the order they were started\n",
    "    for result in results:\n",
    "        print(result)\n",
    "\n",
    "finish = time.perf_counter()\n",
    "\n",
    "\n",
    "print(f'Finished in {round(finish-start, 2)} second (s) ')\n",
    "\n"
   ]
  },
  {
   "cell_type": "code",
   "execution_count": 24,
   "id": "8b5f626a-8750-43d7-8b85-fddb4b9f8126",
   "metadata": {
    "tags": []
   },
   "outputs": [
    {
     "name": "stdout",
     "output_type": "stream",
     "text": [
      "Sleeping 5 second(s)...Sleeping 4 second(s)...\n",
      "\n",
      "Sleeping 3 second(s)...\n",
      "Sleeping 2 second(s)...\n",
      "Sleeping 1 second(s)...\n",
      "Finished in 5.01 second (s) \n"
     ]
    }
   ],
   "source": [
    "#map method\n",
    "start = time.perf_counter()\n",
    "def do_something(seconds) :\n",
    "    print(f'Sleeping {seconds} second(s)...')\n",
    "    sleep(seconds)\n",
    "    return f'Done Sleeping...{seconds}'\n",
    "\n",
    "with concurrent.futures.ThreadPoolExecutor() as executor:\n",
    "    secs = [5,4,3,2,1]\n",
    "    results = executor.map(do_something, secs) #map runs the function for every value in secs \n",
    "                                                #instead of the previous that returned a future objet map will return the result\n",
    "                                                #in the order they were started\n",
    "    # for result in results:\n",
    "    #     print(result)\n",
    "\n",
    "finish = time.perf_counter()\n",
    "\n",
    "\n",
    "print(f'Finished in {round(finish-start, 2)} second (s) ')   \n",
    "#it still waited for the threads to complete"
   ]
  },
  {
   "cell_type": "code",
   "execution_count": 26,
   "id": "758116b9-4bcc-4391-b122-c985f0506092",
   "metadata": {
    "tags": []
   },
   "outputs": [],
   "source": [
    "#real world example\n",
    "img_urls = [\n",
    "    'https://images.unsplash.com/photo-1516117172878-fd2c41f4a759',\n",
    "    'https://images.unsplash.com/photo-1532009324734-20a7a5813719',\n",
    "    'https://images.unsplash.com/photo-1524429656589-6633a470097c',\n",
    "    'https://images.unsplash.com/photo-1530224264768-7ff8c1789d79',\n",
    "    'https://images.unsplash.com/photo-1564135624576-c5c88640f235',\n",
    "    'https://images.unsplash.com/photo-1541698444083-023c97d3f4b6',\n",
    "    'https://images.unsplash.com/photo-1522364723953-452d3431c267',\n",
    "    'https://images.unsplash.com/photo-1513938709626-033611b8cc03',\n",
    "    'https://images.unsplash.com/photo-1507143550189-fed454f93097',\n",
    "    'https://images.unsplash.com/photo-1493976040374-85c8e12f0c0e',\n",
    "    'https://images.unsplash.com/photo-1504198453319-5ce911bafcde',\n",
    "    'https://images.unsplash.com/photo-1530122037265-a5f1f91d3b99',\n",
    "    'https://images.unsplash.com/photo-1516972810927-80185027ca84',\n",
    "    'https://images.unsplash.com/photo-1550439062-609e1531270e',\n",
    "    'https://images.unsplash.com/photo-1549692520-acc6669e2f0c'\n",
    "]\n",
    "\n",
    "def download_image(img_url):                     #normally one does a for loop for img_url in img_urls and does the followin but...\n",
    "    img_bytes = requests.get(img_url).content    #it would download these one at a time\n",
    "    img_name = img_url.split('/')[3]\n",
    "    img_name = f'{img_name}.jpg'\n",
    "    with open(img_name, 'wb') as img_file:\n",
    "        img_file.write(img_bytes)\n",
    "        print(f'{img_name} was downloaded...')\n",
    "        \n",
    "with concurrent.futures.ThreadPoolExecutor() as executor:\n",
    "    executor.map(download_image, img_urls)\n",
    "\n",
    "\n",
    "t2 = time.perf_counter()\n",
    "\n",
    "print(f'Finished in {t2-t1} seconds')\n",
    "\n",
    "t1 = time.perf_counter()"
   ]
  },
  {
   "cell_type": "markdown",
   "id": "94bef33c-4956-4e9a-891b-3ecce6009f47",
   "metadata": {},
   "source": [
    "### Let's try threading for ising model   "
   ]
  },
  {
   "cell_type": "code",
   "execution_count": 27,
   "id": "7012a203-5898-42e3-99bd-ba6f181a6a97",
   "metadata": {},
   "outputs": [],
   "source": [
    "f_ext=0"
   ]
  },
  {
   "cell_type": "code",
   "execution_count": 28,
   "id": "924d33af-230b-4385-b6b5-4b5612750f91",
   "metadata": {},
   "outputs": [],
   "source": [
    "#funzione che calcola che tiene conto di PBC per un generico reticolo rettangolare (nlatt_x,nlatt_y)\n",
    "def boundaries_cond(nlatt_x,nlatt_y):\n",
    "    nlatt_x = int(nlatt_x)\n",
    "    nlatt_y = int(nlatt_y)\n",
    "    if (nlatt_x == nlatt_y):\n",
    "        npp = np.zeros(nlatt_x).astype(np.int64)\n",
    "        nmm = np.zeros(nlatt_x).astype(np.int64)\n",
    "        \n",
    "        for i in range(nlatt_x):\n",
    "            npp[i] = i+1\n",
    "            nmm[i] = i-1\n",
    "        npp[nlatt_x - 1] = 0\n",
    "        nmm[0] = nlatt_x - 1\n",
    "        return npp,nmm\n",
    "\n",
    "    else:\n",
    "        nppx = np.zeros(nlatt_x).astype(np.int64)\n",
    "        nmmx = np.zeros(nlatt_x).astype(np.int64)\n",
    "        nppy = np.zeros(nlatt_y).astype(np.int64)\n",
    "        nmmy = np.zeros(nlatt_y).astype(np.int64)\n",
    "        for i in range(nlatt_x):\n",
    "            nppx[i] = i + 1\n",
    "            nmmx[i] = i - 1\n",
    "        nppx[nlatt_x - 1] = 0\n",
    "        nmmx[0]= nlatt_x - 1\n",
    "\n",
    "        for i in range(nlatt_y):\n",
    "            nppy[i] = i+1    \n",
    "            nmmy[i] = i-1\n",
    "        nppy[nlatt_y - 1] = 0\n",
    "        nmmy[0]  = nlatt_y - 1\n",
    "\n",
    "        return nppx,nmmx,nppy,nmmy "
   ]
  },
  {
   "cell_type": "code",
   "execution_count": 29,
   "id": "75de61ca-b5ee-4c41-ad65-7944cde62c2b",
   "metadata": {},
   "outputs": [],
   "source": [
    "@jit(parallel=True)\n",
    "def init(flag, Nx, Ny):   # 0 parte a freddo , 1 a caldo 50 su e 50 giu, ----> aggiungere carica da file o partenze particolari\n",
    "    field = np.zeros((Nx,Ny))\n",
    "    if (flag == 0):      \n",
    "        field[:][:] = 1\n",
    "        return field\n",
    "    elif (flag == 1):\n",
    "        for i in prange (0,Nx):\n",
    "            for j in prange(0,Ny):\n",
    "                r = np.random.uniform(0,1)\n",
    "                if (r<0.5):\n",
    "                     field[i][j] = 1\n",
    "                else:\n",
    "                    field[i][j] = -1\n",
    "        return field "
   ]
  },
  {
   "cell_type": "code",
   "execution_count": 30,
   "id": "94afb196-3b20-47d7-9161-074a1dbc9aee",
   "metadata": {},
   "outputs": [],
   "source": [
    "@njit(\"(f8[:,:],f8, i8[:], i8[:])\", cache=True)\n",
    "def metropolis(field, beta, npp, nmm):\n",
    "    nvol=int(field.shape[0]*field.shape[1])\n",
    "    Nx = field.shape[0]\n",
    "    Ny = field.shape[1]\n",
    "    for i in range(0,nvol):\n",
    "        x = int(np.random.uniform(0,1) * Nx)    #python indicizza da 0 a n-1 per a[n]\n",
    "        y = int(np.random.uniform(0,1) * Ny)\n",
    "        \n",
    "        xp = npp[x]\n",
    "        xm = nmm[x]\n",
    "        yp = npp[y]\n",
    "        ym = nmm[y]\n",
    "        \n",
    "        f = beta * (field[x][yp] + field[x][ym] + field[xp][y] + field[xm][y] + f_ext)   #calcolo la 'forza' + eventuale campo esterno\n",
    "        \n",
    "        s_i = field[x][y]    #spin attuale\n",
    "        \n",
    "        p_rat = np.exp(-2 * f * s_i)\n",
    "        r = np.random.uniform(0,1)     #test accettanza\n",
    "        \n",
    "        if(r < p_rat):\n",
    "            field[x][y] = -1*s_i"
   ]
  },
  {
   "cell_type": "code",
   "execution_count": 31,
   "id": "e6ab9ec1-c5ae-4c7b-9e45-f84a9e756a56",
   "metadata": {},
   "outputs": [],
   "source": [
    "@njit(\"f8(f8[:,:], i8[:], i8[:])\")\n",
    "def energy(field, npp, nmm):\n",
    "    ene=0.0\n",
    "    for x in range(0,field.shape[0]):\n",
    "        for y in range(0,field.shape[1]):\n",
    "            xp = npp[x]\n",
    "            xm = nmm[x]\n",
    "            yp = npp[y]\n",
    "            ym = nmm[y]\n",
    "            f = field[x][yp] + field[x][ym] + field[xp][y] + field[xm][y]\n",
    "            ene = ene -  0.5*f*field[x,y]\n",
    "            ene = ene - f_ext*field[x,y]\n",
    "    ene = ene/(field.shape[0]*field.shape[1])\n",
    "    return ene  "
   ]
  },
  {
   "cell_type": "code",
   "execution_count": 32,
   "id": "63be9de3-307d-42c9-a63b-9620f1e798d1",
   "metadata": {},
   "outputs": [],
   "source": [
    "@njit(\"f8(f8[:,:], i8[:], i8[:])\")\n",
    "def magnetization(field, npp, nmm):\n",
    "    magn=0.0\n",
    "    for x in prange(0, field.shape[0]):\n",
    "        for y in prange(0, field.shape[1]):\n",
    "            magn += field[x,y]\n",
    "    magn = magn/(field.shape[0]*field.shape[1])\n",
    "    return magn"
   ]
  },
  {
   "cell_type": "code",
   "execution_count": 33,
   "id": "3b7e74bc-4cf5-4531-bb7a-3d79a7967897",
   "metadata": {},
   "outputs": [],
   "source": [
    "beta_exp = np.round(np.arange(0.3,0.55,0.002), decimals=3)\n",
    "beta_exp_try = np.round(np.arange(0.3,0.31,0.001), decimals=3)\n",
    "dim = np.arange(3,10,2)\n",
    "dim_try =np.arange(10,30,10)\n",
    "#for simplicity let's consider only a square like lattice\n",
    "N=50\n",
    "save_measure=25\n",
    "measures=2000000\n",
    "measures_try=10000"
   ]
  },
  {
   "cell_type": "code",
   "execution_count": 34,
   "id": "10cf4b30-b750-4196-bf3c-3d6bf99d679d",
   "metadata": {},
   "outputs": [],
   "source": [
    "def sim(beta, measures, save_step, n_latt):\n",
    "    npp, nmm = boundaries_cond(n_latt,n_latt)\n",
    "    filename=f\"thread_{n_latt}.txt\"\n",
    "    file = open(filename,\"w\")\n",
    "    file.write(\"#betas\\t\\tEnergy\\t\\tMagn\\n\")\n",
    "    for bs in beta:\n",
    "        field = init(1, n_latt, n_latt)\n",
    "        for meas in range(measures):\n",
    "            metropolis(field, bs, npp, nmm)\n",
    "            if(meas%save_measure==0):\n",
    "                file.write(\"%f\\t\\t%f\\t\\t%f\\n\"%(bs, energy(field, npp, nmm), magnetization(field, npp, nmm)))\n",
    "    file.close()"
   ]
  },
  {
   "cell_type": "code",
   "execution_count": 49,
   "id": "376ebde6-45d2-4c4b-9268-78a43f1c5819",
   "metadata": {},
   "outputs": [],
   "source": [
    "def sim_n(n_latt):\n",
    "    for n in tqdm(n_latt):\n",
    "        beta=np.round(np.arange(0.3,0.55,0.002))\n",
    "        measures=1000\n",
    "        save_step=1\n",
    "        sim(beta, measures, save_step, n)\n",
    " "
   ]
  },
  {
   "cell_type": "code",
   "execution_count": null,
   "id": "62b8ce05-7984-48db-901e-eee18462c3f0",
   "metadata": {},
   "outputs": [],
   "source": [
    "sim_n(beta_exp, measures, save_measure, dim)"
   ]
  },
  {
   "cell_type": "code",
   "execution_count": 56,
   "id": "f2a6a92a-271c-43f1-8dc8-cd0d3bdedfc7",
   "metadata": {
    "tags": []
   },
   "outputs": [
    {
     "data": {
      "application/vnd.jupyter.widget-view+json": {
       "model_id": "8d68c00cf08b4c8cbed71ae7dc338de6",
       "version_major": 2,
       "version_minor": 0
      },
      "text/plain": [
       "0it [00:00, ?it/s]"
      ]
     },
     "metadata": {},
     "output_type": "display_data"
    },
    {
     "data": {
      "application/vnd.jupyter.widget-view+json": {
       "model_id": "e7e3763d2b264e02a5d4fdca6412a233",
       "version_major": 2,
       "version_minor": 0
      },
      "text/plain": [
       "0it [00:00, ?it/s]"
      ]
     },
     "metadata": {},
     "output_type": "display_data"
    },
    {
     "data": {
      "application/vnd.jupyter.widget-view+json": {
       "model_id": "8fe3db4b0d8046dbafca15bc4699c604",
       "version_major": 2,
       "version_minor": 0
      },
      "text/plain": [
       "0it [00:00, ?it/s]"
      ]
     },
     "metadata": {},
     "output_type": "display_data"
    },
    {
     "data": {
      "application/vnd.jupyter.widget-view+json": {
       "model_id": "75007a5094764349aa8ddd35a0dfad76",
       "version_major": 2,
       "version_minor": 0
      },
      "text/plain": [
       "0it [00:00, ?it/s]"
      ]
     },
     "metadata": {},
     "output_type": "display_data"
    }
   ],
   "source": [
    "with concurrent.futures.ThreadPoolExecutor() as executor:\n",
    "    results = executor.map(sim_n,np.arange(3,10,2))"
   ]
  },
  {
   "cell_type": "code",
   "execution_count": null,
   "id": "4f7c6d32-c258-4a57-b45b-a76ca9a5d021",
   "metadata": {},
   "outputs": [],
   "source": []
  },
  {
   "cell_type": "code",
   "execution_count": null,
   "id": "ae3b4e6d-31f0-4b82-a692-ff5b1e43066b",
   "metadata": {},
   "outputs": [],
   "source": []
  }
 ],
 "metadata": {
  "kernelspec": {
   "display_name": "Python 3 (ipykernel)",
   "language": "python",
   "name": "python3"
  },
  "language_info": {
   "codemirror_mode": {
    "name": "ipython",
    "version": 3
   },
   "file_extension": ".py",
   "mimetype": "text/x-python",
   "name": "python",
   "nbconvert_exporter": "python",
   "pygments_lexer": "ipython3",
   "version": "3.9.15"
  }
 },
 "nbformat": 4,
 "nbformat_minor": 5
}
